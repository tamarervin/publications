{
 "cells": [
  {
   "attachments": {},
   "cell_type": "markdown",
   "metadata": {},
   "source": [
    "# Pull all PSP data\n",
    "\n",
    "Tamar Ervin\n",
    "July 28, 2023"
   ]
  },
  {
   "cell_type": "code",
   "execution_count": null,
   "metadata": {},
   "outputs": [],
   "source": [
    "import glob\n",
    "import pyspedas\n",
    "from pyspedas import time_string, time_double\n",
    "from pytplot import tplot, get_data, cdf_to_tplot, store_data\n",
    "import astrospice\n",
    "import sunpy \n",
    "import sys, os\n",
    "import datetime\n",
    "import numpy as np\n",
    "sys.path.append(os.path.realpath(''))\n",
    "import pandas as pd\n",
    "import astropy.units as u\n",
    "import matplotlib.pyplot as plt\n",
    "\n",
    "import tools.utilities as utils\n",
    "import tools.sigma as sigma\n",
    "from tools.calculations import calc_beta\n",
    "import tools.psp_funcs as psp_funcs\n",
    "import tools.pfss_funcs as pfss_funcs\n",
    "\n",
    "\n",
    "import sunpy.coordinates as scoords\n",
    "from scipy.interpolate import interp1d\n",
    "from plasmapy.formulary import beta, magnetic_pressure, thermal_pressure, ion_sound_speed\n",
    "from astropy.constants import k_B\n",
    "import heliopy.data.spice as spicedata\n",
    "import heliopy.spice as spice\n",
    "import scipy.constants as con\n",
    "\n",
    "\n",
    "import matplotlib.pyplot as plt\n",
    "from mpl_toolkits import mplot3d\n",
    "from matplotlib import animation, rc\n",
    "from IPython.display import HTML\n",
    "from astropy.coordinates import SkyCoord\n",
    "\n",
    "import astropy.constants as const\n",
    "import astropy.units as u\n",
    "from ntpath import basename\n",
    "import numpy as np\n",
    "from urllib.request import urlretrieve\n",
    "import os \n",
    "\n",
    "rc('animation',html='html5')\n",
    "\n",
    "\n",
    "RES_DIR = os.path.realpath('results')\n",
    "for sc in ['psp','solar orbiter'] : kernels = astrospice.registry.get_kernels(sc,'predict') \n",
    "\n"
   ]
  },
  {
   "attachments": {},
   "cell_type": "markdown",
   "metadata": {},
   "source": [
    "# Data Download"
   ]
  },
  {
   "cell_type": "code",
   "execution_count": null,
   "metadata": {},
   "outputs": [],
   "source": [
    "time_range = ['2023-03-10/00:00', '2023-03-24/00:00']\n",
    "enc = 'E15'\n",
    "edens = 'ENC15_QTN_Electron_Density.csv'"
   ]
  },
  {
   "cell_type": "code",
   "execution_count": null,
   "metadata": {},
   "outputs": [],
   "source": [
    "# # FIELDS\n",
    "# fields_vars = pyspedas.psp.fields(trange=time_range, time_clip=True, datatype='mag_RTN_4_Sa_per_Cyc')\n",
    "\n",
    "# # RFS\n",
    "# rfs_vars = pyspedas.psp.fields(trange=time_range, time_clip=True, level='l3', datatype='rfs_lfr')\n",
    "\n",
    "# # SPAN-Ion - Proton Moments\n",
    "# pvars = pyspedas.psp.spi(trange=time_range, datatype='sf00_l3_mom', \n",
    "#                             level='l3', time_clip=True)\n",
    "\n",
    "# # SPAN-Ion - Alpha Particle Moments\n",
    "# avars = pyspedas.psp.spi(trange=time_range, datatype='sf0a_l3_mom', \n",
    "#                             level='l3', time_clip=True)\n",
    "\n",
    "# # SPAN-Electron - Electron Moments\n",
    "# spe_vars = pyspedas.psp.spe(trange=time_range, level='l2', time_clip=True)"
   ]
  },
  {
   "attachments": {},
   "cell_type": "markdown",
   "metadata": {},
   "source": [
    "# PARKER"
   ]
  },
  {
   "cell_type": "code",
   "execution_count": null,
   "metadata": {},
   "outputs": [],
   "source": [
    "# check if folder exists\n",
    "folder_path = os.path.realpath('results')\n",
    "if not os.path.exists(folder_path):\n",
    "    os.makedirs(folder_path)\n",
    "    print(f\"Folder '{folder_path}' created.\")\n",
    "else:\n",
    "    print(f\"Folder '{folder_path}' already exists.\")"
   ]
  },
  {
   "attachments": {},
   "cell_type": "markdown",
   "metadata": {},
   "source": [
    "### FIELDS"
   ]
  },
  {
   "cell_type": "code",
   "execution_count": null,
   "metadata": {},
   "outputs": [],
   "source": [
    "files = glob.glob(os.path.join(os.path.realpath(os.path.join('psp_data', 'fields/l2/mag_rtn_4_per_cycle/2023')), \"*\"), recursive=True)\n",
    "vars = cdf_to_tplot(files[4:8])\n",
    "dt = get_data('psp_fld_l2_mag_RTN_4_Sa_per_Cyc')\n",
    "# date_obj = [datetime.datetime.strptime(time_string(d), '%Y-%m-%d %H:%M:%S.%f') for d in dt.times]\n",
    "\n",
    "# rd = {'Time': date_obj, 'Br': dt.y[:, 0], 'Bt': dt.y[:, 1], 'Bn': dt.y[:, 2]}\n",
    "# dfmag = pd.DataFrame(data=rd)\n",
    "# dfmag.to_csv(os.path.join(RES_DIR, 'fields.csv'))"
   ]
  },
  {
   "cell_type": "code",
   "execution_count": null,
   "metadata": {},
   "outputs": [],
   "source": [
    "waveoutput = pyspedas.analysis.twavpol.wavpol(dt.times, dt.y[:, 0], dt.y[:, 1], dt.y[:, 2])\n",
    "waveoutput"
   ]
  },
  {
   "cell_type": "code",
   "execution_count": null,
   "metadata": {},
   "outputs": [],
   "source": [
    "# time_range = ['2023-03-16/08:00', '2023-03-18/00:00']\n",
    "# fields_vars = pyspedas.psp.fields(trange=time_range, time_clip=True, datatype='mag_RTN')\n",
    "waveoutput2 = pyspedas.twavpol('psp_fld_l2_mag_RTN_4_Sa_per_Cyc')"
   ]
  },
  {
   "cell_type": "code",
   "execution_count": null,
   "metadata": {},
   "outputs": [],
   "source": [
    "tplot(['psp_fld_l2_mag_RTN_4_Sa_per_Cyc_waveangle'])"
   ]
  },
  {
   "cell_type": "code",
   "execution_count": null,
   "metadata": {},
   "outputs": [],
   "source": [
    "len(waveoutput[0])\n",
    "plt.imshow(waveoutput[3])\n",
    "waveoutput[3].shape"
   ]
  },
  {
   "attachments": {},
   "cell_type": "markdown",
   "metadata": {},
   "source": [
    "### RFS "
   ]
  },
  {
   "cell_type": "code",
   "execution_count": null,
   "metadata": {},
   "outputs": [],
   "source": [
    "# path = glob.glob(os.path.join(os.path.realpath(os.path.join('psp_data', 'fields/l2/rfs_lfr')), \"*\"), recursive=True)\n",
    "# files = glob.glob(os.path.join(path[0], '*'))[:2]\n",
    "# vars = cdf_to_tplot(files)\n",
    "\n",
    "dt = get_data('psp_fld_l2_rfs_lfr_auto_averages_ch0_V1V2')\n",
    "# date_obj = [datetime.datetime.strptime(time_string(d), '%Y-%m-%d %H:%M:%S.%f') for d in dt.times]\n",
    "\n",
    "# rd = {'Time': date_obj, 'Br': dt.y[:, 0], 'Bt': dt.y[:, 1], 'Bn': dt.y[:, 2]}\n",
    "# df = pd.DataFrame(data=rd)\n",
    "# df = df.set_index(df.Time)\n",
    "# df.to_csv(os.path.join(enc, 'results/fields.csv'))"
   ]
  },
  {
   "cell_type": "code",
   "execution_count": null,
   "metadata": {},
   "outputs": [],
   "source": [
    "vars"
   ]
  },
  {
   "cell_type": "code",
   "execution_count": null,
   "metadata": {},
   "outputs": [],
   "source": [
    "tplot(['psp_fld_l2_rfs_lfr_auto_averages_ch0_V1V2'])"
   ]
  },
  {
   "attachments": {},
   "cell_type": "markdown",
   "metadata": {},
   "source": [
    "### PROTONS"
   ]
  },
  {
   "cell_type": "code",
   "execution_count": null,
   "metadata": {},
   "outputs": [],
   "source": [
    "path = glob.glob(os.path.join(os.path.realpath(os.path.join('psp_data', 'sweap/spi/l3/spi_sf00_l3_mom')), \"*\"), recursive=True)\n",
    "files = glob.glob(os.path.join(path[0], '*'))\n",
    "\n",
    "vars = cdf_to_tplot(files)\n",
    "dt = get_data('VEL_RTN_SUN')\n",
    "dt2 = get_data('DENS')\n",
    "dt3 = get_data('TEMP')\n",
    "date_obj = [datetime.datetime.strptime(time_string(d), '%Y-%m-%d %H:%M:%S.%f') for d in dt.times]\n",
    "\n",
    "rd = {'Time': date_obj, 'vr': np.abs(dt.y[:, 0]), 'vt': dt.y[:, 1], 'vn': dt.y[:, 2], 'Np': dt2.y, 'Tp': dt3.y}\n",
    "df = pd.DataFrame(data=rd)\n",
    "\n",
    "### ADD ANGLE\n",
    "vx, vy, vz = [get_data('VEL_SC').y[:, i] for i in np.arange(0, 3)]\n",
    "mx, my, mz = [get_data('MAGF_INST').y[:, i] for i in np.arange(0, 3)]\n",
    "vdotb = vx*mx + vy*my + vz*mz\n",
    "v = np.sqrt(vx**2 + vy**2 + vz**2)\n",
    "b = np.sqrt(mx**2 + my**2 + mz**2)\n",
    "angle_vb = np.arccos(vdotb/(v*b))\n",
    "\n",
    "df['angle_vb'] = angle_vb\n",
    "\n",
    "# df = df.set_index(df.Time)\n",
    "df.to_csv(os.path.join(RES_DIR, 'protons.csv'))"
   ]
  },
  {
   "cell_type": "code",
   "execution_count": null,
   "metadata": {},
   "outputs": [],
   "source": [
    "tplot(['VEL_INST',\n",
    " 'VEL_SC',\n",
    " 'VEL_RTN_SUN',\n",
    " 'SC_VEL_RTN_SUN'])\n",
    "vars\n"
   ]
  },
  {
   "cell_type": "code",
   "execution_count": null,
   "metadata": {},
   "outputs": [],
   "source": [
    "fig, axs = plt.subplots(1, figsize=[10, 5])\n",
    "\n",
    "axs.scatter(df.rAU, df.Ahe) \n",
    "# axs[1].scatter(df.Np, df.vr)\n",
    "axs.set(ylabel=r'$\\rm A_{He} \\; [nT]$', xlabel=r'$\\rm r_{AU}$', ylim=(-0.05, 0.25))"
   ]
  },
  {
   "cell_type": "code",
   "execution_count": null,
   "metadata": {},
   "outputs": [],
   "source": [
    "tplot(['DENS', 'VEL_RTN_SUN', 'TEMP', 'EFLUX_VS_THETA', 'EFLUX_VS_PHI'])"
   ]
  },
  {
   "attachments": {},
   "cell_type": "markdown",
   "metadata": {},
   "source": [
    "### ALPHAS"
   ]
  },
  {
   "cell_type": "code",
   "execution_count": null,
   "metadata": {},
   "outputs": [],
   "source": [
    "path = glob.glob(os.path.join(os.path.realpath(os.path.join('psp_data', 'sweap/spi/l3/spi_sf0a_l3_mom')), \"*\"), recursive=True)\n",
    "files = glob.glob(os.path.join(path[0], '*'))\n",
    "\n",
    "vars = cdf_to_tplot(files)\n",
    "dt = get_data('VEL_RTN_SUN')\n",
    "dt2 = get_data('DENS')\n",
    "dt3 = get_data('TEMP')\n",
    "date_obj = [datetime.datetime.strptime(time_string(d), '%Y-%m-%d %H:%M:%S.%f') for d in dt.times]\n",
    "\n",
    "# rd = {'Time': date_obj, 'vra': dt.y[:, 0], 'vta': dt.y[:, 1], 'vna': dt.y[:, 2], 'Na': dt2.y, 'Ta': dt3.y}\n",
    "# dfalp = pd.DataFrame(data=rd)\n",
    "# # dfalp = dfalp.set_index(dfalp.Time)\n",
    "# dfalp.to_csv(os.path.join(RES_DIR, 'alphas.csv'))"
   ]
  },
  {
   "cell_type": "code",
   "execution_count": null,
   "metadata": {},
   "outputs": [],
   "source": [
    "tplot(['DENS', 'VEL_RTN_SUN', 'TEMP', 'EFLUX_VS_THETA', 'EFLUX_VS_PHI'])"
   ]
  },
  {
   "attachments": {},
   "cell_type": "markdown",
   "metadata": {},
   "source": [
    "### ELECTRONS"
   ]
  },
  {
   "cell_type": "code",
   "execution_count": null,
   "metadata": {},
   "outputs": [],
   "source": [
    "files = glob.glob(os.path.join(os.path.realpath(os.path.join('psp_data', 'sweap/spe/l2/spa_sf132e/2023')), \"*\"), recursive=True)\n",
    "\n",
    "# vars = cdf_to_tplot(files)\n",
    "# dt = get_data('VEL_RTN_SUN')\n",
    "# dt2 = get_data('DENS')\n",
    "# dt3 = get_data('TEMP')\n",
    "# date_obj = [datetime.datetime.strptime(time_string(d), '%Y-%m-%d %H:%M:%S.%f') for d in dt.times]\n",
    "\n",
    "# rd = {'Time': date_obj, 'vr': dt.y[:, 0], 'vt': dt.y[:, 1], 'vn': dt.y[:, 2], 'Na': dt2.y, 'Ta': dt3.y}\n",
    "# dfalp = pd.DataFrame(data=rd)\n",
    "# dfalp = dfalp.set_index(dfalp.Time)\n",
    "# dfalp.to_csv(os.path.join(RES_DIR, 'alphas.csv'))"
   ]
  },
  {
   "cell_type": "code",
   "execution_count": null,
   "metadata": {},
   "outputs": [],
   "source": [
    "tplot('psp_spe_EFLUX')\n"
   ]
  },
  {
   "cell_type": "code",
   "execution_count": null,
   "metadata": {},
   "outputs": [],
   "source": [
    "dt = pd.read_csv(os.path.realpath(os.path.join('psp_data', edens)))\n",
    "date_obj = [datetime.datetime.strptime(d, '%Y-%m-%d/%H:%M:%S') for d in dt.Time]\n",
    "\n",
    "rd = {'Time': date_obj, 'Ne': dt.N_QTN}\n",
    "dfe = pd.DataFrame(data=rd, index=None)\n",
    "# dfe = dfe.set_index(dfe.Time)\n",
    "dfe.to_csv(os.path.join(RES_DIR, 'electrons.csv'))"
   ]
  },
  {
   "cell_type": "code",
   "execution_count": null,
   "metadata": {},
   "outputs": [],
   "source": [
    "dt = pd.read_csv(os.path.realpath(os.path.join('results', 'ENC15_SPAN-E_Core_Temperature.csv')))\n",
    "date_obj = [datetime.datetime.strptime(d, '%Y-%m-%d/%H:%M:%S') for d in dt.Time]\n",
    "\n",
    "rd = {'Time': date_obj, 'Te': dt['T'], 'Teperp': dt.Tperp, 'Tepara': dt.Tparallel}\n",
    "dfet = pd.DataFrame(data=rd, index=None)\n",
    "# # dfe = dfe.set_index(dfe.Time)\n",
    "dfet.to_csv(os.path.join(RES_DIR, 'electron_temp.csv'))\n",
    "dfet"
   ]
  },
  {
   "attachments": {},
   "cell_type": "markdown",
   "metadata": {},
   "source": [
    "### COMBINE DATASETS"
   ]
  },
  {
   "cell_type": "code",
   "execution_count": null,
   "metadata": {},
   "outputs": [],
   "source": [
    "RESULTS = '/Users/tamarervin/e15_results/'"
   ]
  },
  {
   "cell_type": "code",
   "execution_count": null,
   "metadata": {},
   "outputs": [],
   "source": [
    "df = pd.read_csv(os.path.join(RESULTS, 'protons.csv'), index_col=None)\n",
    "dfe = pd.read_csv(os.path.join(RESULTS, 'electrons.csv'), index_col=None)\n",
    "dfet = pd.read_csv(os.path.join(RESULTS, 'electron_temp.csv'), index_col=None)\n",
    "dfalp = pd.read_csv(os.path.join(RESULTS, 'alphas.csv'), index_col=None)\n",
    "dfmag = pd.read_csv(os.path.join(RESULTS, 'fields.csv'), index_col=None)\n",
    "df, dfe, dfet, dfalp = [dd.drop(['Unnamed: 0'], axis=1) for dd in [df, dfe, dfet, dfalp]]\n",
    "dfmag = dfmag.drop(['Time.1'], axis=1)\n",
    "df['Time'] = [datetime.datetime.strptime(d, '%Y-%m-%d %H:%M:%S.%f') for d in df.Time]\n",
    "dfe['Time'] = [datetime.datetime.strptime(d, '%Y-%m-%d %H:%M:%S') for d in dfe.Time]\n",
    "dfet['Time'] = [datetime.datetime.strptime(d, '%Y-%m-%d %H:%M:%S') for d in dfet.Time]\n",
    "dfalp['Time'] = [datetime.datetime.strptime(d, '%Y-%m-%d %H:%M:%S.%f') for d in dfalp.Time]\n",
    "dfmag['Time'] = [datetime.datetime.strptime(d, '%Y-%m-%d %H:%M:%S.%f') for d in dfmag.Time]\n"
   ]
  },
  {
   "cell_type": "code",
   "execution_count": null,
   "metadata": {},
   "outputs": [],
   "source": [
    "ff = pd.merge_asof(df, dfalp, on='Time', direction='backward')\n",
    "ff = pd.merge_asof(ff, dfe, on='Time', direction='backward')\n",
    "ff = pd.merge_asof(ff, dfet, on='Time', direction='backward')\n",
    "ff = pd.merge_asof(ff, dfmag, on='Time', direction='backward')\n",
    "ff = ff.set_index('Time')\n",
    "ff = ff[np.logical_and(ff.Tp > 0, ff.Ta > 0)].copy()\n",
    "ff"
   ]
  },
  {
   "cell_type": "code",
   "execution_count": null,
   "metadata": {},
   "outputs": [],
   "source": [
    "# Calculate time differences between consecutive datetime values\n",
    "from datetime import timedelta\n",
    "datetime_list = ff.index.to_list()\n",
    "time_diff_list = [datetime_list[i + 1] - datetime_list[i] for i in range(len(datetime_list) - 1)]\n",
    "\n",
    "# Calculate the average time difference\n",
    "average_time_difference = sum(time_diff_list, timedelta()) / len(time_diff_list)\n",
    "print(average_time_difference)\n",
    "\n",
    "# Specify the total time period (e.g., 10 minutes)\n",
    "total_time_period = timedelta(minutes=20)\n",
    "\n",
    "# Calculate the number of points\n",
    "number_of_points = total_time_period / average_time_difference\n",
    "\n",
    "print(f\"Number of Points in {total_time_period}: {int(number_of_points)}\")\n"
   ]
  },
  {
   "cell_type": "code",
   "execution_count": null,
   "metadata": {},
   "outputs": [],
   "source": [
    "### ----- CALCULATIONS ----- ###\n",
    "### Vap\n",
    "ff['B'] = np.sqrt(ff.Br**2 + ff.Bt**2 + ff.Bn**2)\n",
    "cost = np.abs(ff.Br/ff.B)\n",
    "ff['vap'] = (ff.vra - ff.vr)/cost\n",
    "\n",
    "### Ahe\n",
    "ff['Ahe'] = ff.Na/ff.Np\n",
    "\n",
    "### TUBULENCE\n",
    "ff['use_dens'] = ff.Np\n",
    "ff['sigmac'],ff['sigmar'], ff['vA'], ff['Zp'],ff['Zm'], ff['deltav'], ff['deltab'] = sigma.calc_sigma(ff, num=314)\n",
    "ff = ff.drop(['use_dens'], axis=1)\n",
    "ff['diff'] = np.abs(ff.vap)/ff.vA\n",
    "\n",
    "### MACH NUMBER\n",
    "ff['MA'] = ff.vr / ff.vA\n",
    "sound_speed = ion_sound_speed(\n",
    "    T_e=np.array(ff.Te)*u.eV/k_B,\n",
    "    T_i=np.array(ff.Tp)*u.eV/k_B,\n",
    "    # n_e=np.array(ff.Ne)/(u.cm**3),\n",
    "    # k=k_2,\n",
    "    ion='p',\n",
    "    gamma_e=1,\n",
    "    gamma_i=3,\n",
    ").to(u.km/u.s).value\n",
    "ff['MS'] = ff.vr / sound_speed\n",
    "ff['MMS'] = ff.vr / np.sqrt(sound_speed**2 + ff.vA**2)\n",
    "\n",
    "### BETA\n",
    "ff['beta'] = beta(np.array(ff.Tp)*u.eV, np.array(ff.Np)/(u.cm*u.cm*u.cm), np.array(ff.B)*u.nT).value\n",
    "ff['betae'] = beta(np.array(ff.Te)*u.eV, np.array(ff.Ne)/(u.cm*u.cm*u.cm), np.array(ff.B)*u.nT).value\n",
    "\n",
    "# ### MAGNETIC PRESSURE\n",
    "ff['Pm'] = magnetic_pressure(np.array(ff.B)*u.nT).value\n",
    "\n",
    "### PROTON PRESSURE\n",
    "ff['Pp'] = thermal_pressure(np.array(ff.Tp)*u.eV, np.array(ff.Np)/u.cm**3).value\n",
    "\n",
    "### ALPHA PRESSURE\n",
    "ff['Pa'] = thermal_pressure(np.array(ff.Ta)*u.eV, np.array(ff.Na)/u.cm**3).value\n",
    "\n",
    "### ELECTRON PRESSURE\n",
    "ff['Pe'] = thermal_pressure(np.array(ff.Te)*u.eV, np.array(ff.Ne)/u.cm**3).value\n",
    "\n",
    "### PARKER DF\n",
    "parker = ff.copy()\n",
    "parker"
   ]
  },
  {
   "cell_type": "code",
   "execution_count": null,
   "metadata": {},
   "outputs": [],
   "source": [
    "plt.scatter(parker.index.to_list(), parker.sigmac)"
   ]
  },
  {
   "cell_type": "code",
   "execution_count": null,
   "metadata": {},
   "outputs": [],
   "source": [
    "### FLAG DATA\n",
    "\n",
    "# check if there is any alpha data\n",
    "all_nan = parker['Ahe'].isna().all()\n",
    "parker['flag'] = np.ones(len(parker.Ahe))\n",
    "if all_nan:\n",
    "    parker['flag'] = np.zeros(len(parker.Ahe))\n",
    "else:\n",
    "    # Flag instances as '0' if all three conditions apply\n",
    "    flag_condition_1 = (np.abs(parker.Np - parker.Ne) / parker.Ne) <= 0.5\n",
    "    flag_condition_2 = (parker.Ahe) <= 0.2\n",
    "    flag_condition_3 = (np.abs(parker.vap) / parker.vA) <= 2\n",
    "    flag_condition_4 = parker.Te < 200 \n",
    "\n",
    "    flag_0 = np.logical_and.reduce([flag_condition_1, flag_condition_2, flag_condition_3, flag_condition_4])\n",
    "\n",
    "parker['flag'][flag_0] = 0\n"
   ]
  },
  {
   "cell_type": "code",
   "execution_count": null,
   "metadata": {},
   "outputs": [],
   "source": [
    "### Create SkyCoord for PSP in the inertial (J2000) frame\n",
    "tt = pd.to_datetime(ff.index.to_list())\n",
    "\n",
    "psp_inertial = astrospice.generate_coords(\n",
    "    'SOLAR PROBE PLUS', tt\n",
    ")\n",
    "\n",
    "### Transform to solar co-rotating frame \n",
    "psp_carrington = psp_inertial.transform_to(\n",
    "    scoords.HeliographicCarrington(observer=\"self\")\n",
    ")\n",
    "\n",
    "# projection\n",
    "ts_common = np.array([dt.timestamp() for dt in tt])\n",
    "psp_vr_ts = [int(dt.timestamp()) for dt in tt]\n",
    "psp_vr_common = interp1d(psp_vr_ts,ff.vr,bounds_error=False)(ts_common)*u.km/u.s\n",
    "psp_at_source_surface = psp_funcs.ballistically_project(psp_carrington,vr_arr=psp_vr_common, r_inner=2.5*u.R_sun)\n"
   ]
  },
  {
   "cell_type": "code",
   "execution_count": null,
   "metadata": {},
   "outputs": [],
   "source": [
    "### ADD POSITION INFORMAITON AND SAVE\n",
    "parker['lon'] = psp_carrington.lon.value\n",
    "parker['lat'] = psp_carrington.lat.value\n",
    "parker['rAU'] = psp_carrington.radius.to(u.AU).value\n",
    "parker['sslon'] = psp_at_source_surface.lon.value\n",
    "parker['sslat'] = psp_at_source_surface.lat.value\n",
    "parker['ssrAU'] = psp_at_source_surface.radius.to(u.AU).value\n",
    "parker['NpR2'] = parker.Np * (parker.rAU ** 2)\n",
    "parker['NeR2'] = parker.Ne * (parker.rAU ** 2)\n",
    "parker['BrR2'] = parker.Br * (parker.rAU ** 2)\n",
    "parker.to_csv(os.path.join(RESULTS, 'parker20.csv'))"
   ]
  },
  {
   "attachments": {},
   "cell_type": "markdown",
   "metadata": {},
   "source": [
    "# ORBITER"
   ]
  },
  {
   "cell_type": "code",
   "execution_count": null,
   "metadata": {},
   "outputs": [],
   "source": [
    "files = glob.glob(os.path.join(os.path.realpath(os.path.join('solar_orbiter_data', 'mag/L2/2023')), \"*\"), recursive=True)\n",
    "\n",
    "vars = cdf_to_tplot(files)\n",
    "dt = get_data('B_RTN')\n",
    "date_obj = [datetime.datetime.strptime(time_string(d), '%Y-%m-%d %H:%M:%S.%f') for d in dt.times]\n",
    "\n",
    "rd = {'Time': date_obj, 'Br': dt.y[:, 0], 'Bt': dt.y[:, 1], 'Bn': dt.y[:, 2]}\n",
    "mag = pd.DataFrame(data=rd)\n",
    "# mag = df.set_index(df.Time)\n",
    "mag.to_csv(os.path.join(RES_DIR, 'mag.csv'))"
   ]
  },
  {
   "cell_type": "code",
   "execution_count": null,
   "metadata": {},
   "outputs": [],
   "source": [
    "files = glob.glob(os.path.join(os.path.realpath(os.path.join('solar_orbiter_data', 'swa/L2/2023')), \"*\"), recursive=True)\n",
    "\n",
    "vars = cdf_to_tplot(files)\n",
    "dt = get_data('V_RTN')\n",
    "dt2 = get_data('N')\n",
    "dt3 = get_data('T')\n",
    "date_obj = [datetime.datetime.strptime(time_string(d), '%Y-%m-%d %H:%M:%S.%f') for d in dt.times]\n",
    "\n",
    "rd = {'Time': date_obj, 'vr': dt.y[:, 0], 'vt': dt.y[:, 1], 'vn': dt.y[:, 2], 'Np': dt2.y, 'Tp': dt3.y}\n",
    "swa = pd.DataFrame(data=rd)\n",
    "# swa = df.set_index(df.Time)\n",
    "swa.to_csv(os.path.join(RES_DIR, 'swa.csv'))"
   ]
  },
  {
   "cell_type": "code",
   "execution_count": null,
   "metadata": {},
   "outputs": [],
   "source": [
    "tplot(['N', 'V_RTN', 'B_RTN', 'T'])\n"
   ]
  },
  {
   "cell_type": "code",
   "execution_count": null,
   "metadata": {},
   "outputs": [],
   "source": [
    "ff = pd.merge_asof(swa, mag, on='Time', direction='backward')\n",
    "ff = ff.set_index('Time')\n",
    "ff"
   ]
  },
  {
   "cell_type": "code",
   "execution_count": null,
   "metadata": {},
   "outputs": [],
   "source": [
    "orbiter = pd.read_csv('results/orbiter.csv')\n",
    "orbiter['Time'] = [datetime.datetime.strptime(d, '%Y-%m-%d %H:%M:%S.%f') for d in orbiter.Time]\n",
    "orbiter"
   ]
  },
  {
   "cell_type": "code",
   "execution_count": null,
   "metadata": {},
   "outputs": [],
   "source": [
    "### Create SkyCoord for PSP in the inertial (J2000) frame\n",
    "ff = swa\n",
    "tt = pd.to_datetime(ff.index.to_list())\n",
    "kernels =  astrospice.registry.get_kernels('solar orbiter','predict') \n",
    "solo_inertial = astrospice.generate_coords(\n",
    "    'SOLAR ORBITER', tt\n",
    "\n",
    ")\n",
    "\n",
    "### Transform to solar co-rotating frame \n",
    "solo_carrington = solo_inertial.transform_to(\n",
    "    scoords.HeliographicCarrington(observer=\"self\")\n",
    ")\n",
    "\n",
    "# projection\n",
    "ts_common = np.array([dt.timestamp() for dt in tt])\n",
    "solo_vr_ts = [int(dt.timestamp()) for dt in tt]\n",
    "solo_vr_common = interp1d(solo_vr_ts,ff.vr,bounds_error=False)(ts_common)*u.km/u.s\n",
    "solo_at_source_surface = psp_funcs.ballistically_project(solo_carrington,vr_arr=solo_vr_common, r_inner=2.5*u.R_sun)\n"
   ]
  },
  {
   "cell_type": "code",
   "execution_count": null,
   "metadata": {},
   "outputs": [],
   "source": [
    "### ----- CALCULATIONS ----- ###\n",
    "ff = orbiter\n",
    "### Vap\n",
    "ff['B'] = np.sqrt(ff.Br**2 + ff.Bt**2 + ff.Bn**2)\n",
    "\n",
    "### TUBULENCE\n",
    "ff['use_dens'] = ff.Np\n",
    "ff['sigmac'],ff['sigmar'], ff['vA'], ff['Zp'],ff['Zm'], ff['deltav'], ff['deltab']  = sigma.calc_sigma(ff, num=8)\n",
    "ff = ff.drop(['use_dens'], axis=1)\n",
    "\n",
    "### MACH NUMBER\n",
    "ff['MA'] = ff.vr / ff.vA\n",
    "ff['MS'] = np.sqrt((ff.vr)**2 + (ff.vt)**2 + (ff.vn)**2)/con.speed_of_sound\n",
    "\n",
    "### BETA\n",
    "ff['beta'] = beta(np.array(ff.Tp)*u.eV, np.array(ff.Np)/(u.cm*u.cm*u.cm), np.array(ff.B)*u.nT).value\n",
    "\n",
    "# ### MAGNETIC PRESSURE\n",
    "ff['Pm'] = magnetic_pressure(np.array(ff.B)*u.nT).value\n",
    "\n",
    "### PROTON PRESSURE\n",
    "ff['Pp'] = thermal_pressure(np.array(ff.Tp)*u.eV, np.array(ff.Np)/u.cm**3).value\n",
    "\n",
    "### ORBITER DF\n",
    "orbiter = ff.copy()"
   ]
  },
  {
   "cell_type": "code",
   "execution_count": null,
   "metadata": {},
   "outputs": [],
   "source": [
    "### ADD POSITION INFORMATION AND SAVE\n",
    "orbiter['lon'] = solo_carrington.lon.value\n",
    "orbiter['lat'] = solo_carrington.lat.value\n",
    "orbiter['rAU'] = solo_carrington.radius.to(u.AU).value\n",
    "orbiter['sslon'] = solo_at_source_surface.lon.value\n",
    "orbiter['sslat'] = solo_at_source_surface.lat.value\n",
    "orbiter['ssrAU'] = solo_at_source_surface.radius.to(u.AU).value\n",
    "orbiter['NpR2'] = orbiter.Np * (orbiter.rAU ** 2)\n",
    "orbiter['BrR2'] = orbiter.Br * (orbiter.rAU ** 2)\n",
    "orbiter.to_csv(os.path.join(RES_DIR, 'orbiter.csv'))\n",
    "orbiter"
   ]
  },
  {
   "cell_type": "code",
   "execution_count": null,
   "metadata": {},
   "outputs": [],
   "source": [
    "fig, [ax1, ax2] = plt.subplots(2)\n",
    "ax1.scatter(solo_at_source_surface.lon, ff.vr, s=3)\n",
    "ax2.scatter(solo_at_source_surface.lon, orbiter.BrR2, s=3)"
   ]
  },
  {
   "attachments": {},
   "cell_type": "markdown",
   "metadata": {},
   "source": [
    "# ACE DATA"
   ]
  },
  {
   "cell_type": "code",
   "execution_count": null,
   "metadata": {},
   "outputs": [],
   "source": [
    "swe_vars = pyspedas.ace.swe(trange=time_range)\n",
    "swi_vars = pyspedas.ace.swics(trange=time_range)\n",
    "mfi_vars = pyspedas.ace.mfi(trange=time_range)\n"
   ]
  },
  {
   "cell_type": "code",
   "execution_count": null,
   "metadata": {},
   "outputs": [],
   "source": [
    "mfi_vars"
   ]
  },
  {
   "cell_type": "code",
   "execution_count": null,
   "metadata": {},
   "outputs": [],
   "source": [
    "tplot(['BRTN', 'V_RTN', 'Np', 'alpha_ratio', 'C6to5', 'O7to6', 'FetoO'])"
   ]
  },
  {
   "cell_type": "code",
   "execution_count": null,
   "metadata": {},
   "outputs": [],
   "source": [
    "# ['BRTN', 'V_RTN', 'Np', 'alpha_ratio', 'C6to5', 'O7to6', 'FetoO']\n",
    "# dt = get_data('V_RTN')\n",
    "# dt2 = get_data('Np')\n",
    "# dt3 = get_data('alpha_ratio')\n",
    "B = get_data('BRTN')\n",
    "# C = get_data('C6to5')\n",
    "# O = get_data('O7to6')\n",
    "# Fe = get_data('FetoO')\n",
    "\n",
    "# date_obj = [datetime.strptime(time_string(d), '%Y-%m-%d %H:%M:%S.%f') for d in dt.times]\n",
    "# rd = {'Time': date_obj, 'vr': dt.y[:, 0], 'vt': dt.y[:, 1], 'vn': dt.y[:, 2]} #, 'Np': dt2.y, 'Na': dt3.y*dt2.y, 'Ahe': dt3.y}\n",
    "\n",
    "date_obj = [datetime.strptime(time_string(d), '%Y-%m-%d %H:%M:%S.%f') for d in B.times]\n",
    "Brd = {'Time': date_obj, 'Br': B.y[:, 0], 'Bt': B.y[:, 1], 'Bn': B.y[:, 2]}\n",
    "\n",
    "# date_obj = [datetime.datetime.strptime(time_string(d), '%Y-%m-%d %H:%M:%S.%f') for d in C.times]\n",
    "# Crd = {'Time': date_obj, 'C6to5': C.y, 'O7to6': O.y, 'FetoO': Fe.y}\n",
    "\n",
    "# dfp, dfb = [pd.DataFrame(data=rd, index=None), pd.DataFrame(data=Brd, index=None)] #, pd.DataFrame(data=Crd)]\n",
    "# for df in [dfp, dfb]:\n",
    "#       df = df.set_index(df.Time)\n",
    "\n",
    "ace = pd.DataFrame(data=Brd, index=None)\n",
    "\n",
    "# ace = pd.merge_asof(dfp, dfb, on='Time', direction='backward')"
   ]
  },
  {
   "cell_type": "code",
   "execution_count": null,
   "metadata": {},
   "outputs": [],
   "source": [
    "# Generate Time Series to Plot Orbits Over\n",
    "SPICE_Origin='SUN'\n",
    "SPICE_Frame='ECLIPJ2000'\n",
    "reference = SPICE_Origin\n",
    "frame = SPICE_Frame\n",
    "unit_dict = {'m' : u.m, 'R_earth' : u.R_earth, 'R_sun' : u.R_sun, 'au' : u.au}    \n",
    "units='au'\n",
    "body = spice.Trajectory('Earth')\n",
    "body.generate_positions(ace.Time, reference, frame)\n",
    "body.change_units(unit_dict.get(units))\n",
    "    "
   ]
  },
  {
   "cell_type": "code",
   "execution_count": null,
   "metadata": {},
   "outputs": [],
   "source": [
    "l1_factor = 0.99029\n",
    "ace_inertial = SkyCoord(body.x, body.y, body.z, representation_type='cartesian')\n",
    "ace_carrington = ace_inertial.transform_to(sunpy.coordinates.HeliographicCarrington(observer=\"self\", obstime=ace.Time))\n",
    "ace_carrington = SkyCoord(lon=ace_carrington.lon, lat=ace_carrington.lat, radius=ace_carrington.radius*l1_factor, representation_type=\"spherical\",\n",
    "                          frame = ace_carrington.frame)\n",
    "\n",
    "\n",
    "ts_common = np.array([dt.timestamp() for dt in ace.Time])\n",
    "ace_vr_ts = [int(dt.timestamp()) for dt in ace.Time]\n",
    "ace_vr_common = interp1d(ace_vr_ts, ace.vr, bounds_error=False)(ts_common)*u.km/u.s\n",
    "ace_projected = psp_funcs.ballistically_project(ace_carrington, vr_arr=ace_vr_common, r_inner=2.5*u.R_sun)"
   ]
  },
  {
   "cell_type": "code",
   "execution_count": null,
   "metadata": {},
   "outputs": [],
   "source": [
    "ace['lon'] = ace_carrington.lon.value\n",
    "ace['lat'] = ace_carrington.lat.value\n",
    "ace['rAU'] = ace_carrington.radius.value\n",
    "ace['sslon'] = ace_projected.lon.value\n",
    "ace['sslat'] = ace_projected.lat.value\n",
    "ace['ssrAU'] = ace_projected.radius.value\n",
    "ace.to_csv('results/ace.csv')"
   ]
  },
  {
   "attachments": {},
   "cell_type": "markdown",
   "metadata": {},
   "source": [
    "# WIND"
   ]
  },
  {
   "attachments": {},
   "cell_type": "markdown",
   "metadata": {},
   "source": [
    "### Data Download"
   ]
  },
  {
   "cell_type": "code",
   "execution_count": null,
   "metadata": {},
   "outputs": [],
   "source": [
    "time_range = ['2023-03-16/00:00', '2023-04-01/00:00']\n",
    "\n",
    "mfi_vars = pyspedas.wind.mfi(trange=time_range)\n",
    "# swe_vars = pyspedas.wind.swe(trange=time_range) -- no data\n",
    "threedp_vars = pyspedas.wind.threedp(trange=time_range, datatype='3dp_k0')\n",
    "\n"
   ]
  },
  {
   "cell_type": "code",
   "execution_count": null,
   "metadata": {},
   "outputs": [],
   "source": [
    "\n",
    "threedp_vars\n",
    "\n",
    "tplot(['BGSE',\n",
    "       'wi_3dp_k0_elect_density',\n",
    " 'wi_3dp_k0_elect_vel',\n",
    " 'wi_3dp_k0_elect_temp',\n",
    " 'wi_3dp_k0_ion_density',\n",
    " 'wi_3dp_k0_ion_vel',\n",
    " 'wi_3dp_k0_ion_temp'])\n",
    "\n"
   ]
  },
  {
   "cell_type": "code",
   "execution_count": null,
   "metadata": {},
   "outputs": [],
   "source": [
    "mag = get_data('BGSE')\n",
    "vel = get_data('wi_3dp_k0_ion_vel')\n",
    "date_obj = [datetime.datetime.strptime(time_string(d), '%Y-%m-%d %H:%M:%S.%f') for d in mag.times]\n",
    "date_obj_vr = [datetime.datetime.strptime(time_string(d), '%Y-%m-%d %H:%M:%S.%f') for d in vel.times]"
   ]
  },
  {
   "cell_type": "code",
   "execution_count": null,
   "metadata": {},
   "outputs": [],
   "source": [
    "['BGSE',\n",
    "'wi_3dp_k0_elect_density',\n",
    " 'wi_3dp_k0_elect_vel',\n",
    " 'wi_3dp_k0_elect_temp',\n",
    " 'wi_3dp_k0_ion_density',\n",
    " 'wi_3dp_k0_ion_vel',\n",
    " 'wi_3dp_k0_ion_temp']\n",
    "\n",
    "B = get_data('BGSE')\n",
    "dt = get_data('wi_3dp_k0_ion_vel')\n",
    "dt2 = get_data('wi_3dp_k0_ion_density')\n",
    "dt3 = get_data('wi_3dp_k0_ion_temp')\n",
    "dt4 = get_data('wi_3dp_k0_elect_vel')\n",
    "dt5 = get_data('wi_3dp_k0_elect_density')\n",
    "dt6 = get_data('wi_3dp_k0_elect_temp')\n",
    "\n",
    "date_obj = [datetime.datetime.strptime(time_string(d), '%Y-%m-%d %H:%M:%S.%f') for d in dt.times]\n",
    "rd = {'Time': date_obj, 'vr': np.abs(dt.y[:, 0]), 'vt': dt.y[:, 1], 'vn': dt.y[:, 2], 'Np': dt2.y, 'Tp': dt3.y,\n",
    "      'vre': dt4.y[:, 0], 'vte': dt4.y[:, 1], 'vne': dt4.y[:, 2], 'Ne': dt5.y, 'Te': dt6.y,}\n",
    "\n",
    "date_obj = [datetime.datetime.strptime(time_string(d), '%Y-%m-%d %H:%M:%S.%f') for d in B.times]\n",
    "Brd = {'Time': date_obj, 'Br': B.y[:, 0], 'Bt': B.y[:, 1], 'Bn': B.y[:, 2]}\n",
    "\n",
    "dfp, dfb = [pd.DataFrame(data=rd, index=None), pd.DataFrame(data=Brd, index=None)] \n",
    "for df in [dfp, dfb]:\n",
    "      df = df.set_index(df.Time)\n",
    "\n",
    "wind = pd.merge_asof(dfp, dfb, on='Time', direction='backward')"
   ]
  },
  {
   "cell_type": "code",
   "execution_count": null,
   "metadata": {},
   "outputs": [],
   "source": [
    "wind = pd.read_csv('results/wind.csv')\n",
    "wind['Time'] = [datetime.datetime.strptime(d, '%Y-%m-%d %H:%M:%S.%f') for d in wind.Time]"
   ]
  },
  {
   "attachments": {},
   "cell_type": "markdown",
   "metadata": {},
   "source": [
    "### Ballistic Propagation"
   ]
  },
  {
   "cell_type": "code",
   "execution_count": null,
   "metadata": {},
   "outputs": [],
   "source": [
    "def get_sc_trajectory(datetime_arr,spice_str='SPP',\n",
    "                      origin='Sun',frame='IAU_SUN',\n",
    "                      representation_type=\"cartesian\",\n",
    "                      incl_datetimes = False\n",
    "                      ) :\n",
    "    if spice_str == 'L1' :\n",
    "        spice_str = 'Earth'\n",
    "        modifier= 1.0- ((const.M_earth.value/\n",
    "                        (const.M_earth.value\n",
    "                         +const.M_sun.value))/3)**(1/3)\n",
    "    else : modifier= 1.0\n",
    "    try : sc = spice.Trajectory(spice_str)\n",
    "    except :\n",
    "        valid_strings = [\n",
    "        'SPP','Earth','L1','SOLO', 'Venus', 'BEPICOLOMBO MPO',\n",
    "        ]\n",
    "        return f\"Invalid spice string, choose from {valid_strings}\"\n",
    "    sc.generate_positions(datetime_arr, origin, frame)\n",
    "    sc.change_units(u.au)\n",
    "    if len(datetime_arr) == 1 or not incl_datetimes:\n",
    "        sc_coord = SkyCoord(x=sc.x*modifier,\n",
    "                                  y=sc.y*modifier,\n",
    "                                  z=sc.z*modifier,\n",
    "                                  frame= sunpy.coordinates.HeliographicCarrington,\n",
    "                                  representation_type='cartesian',\n",
    "                                  observer=\"Earth\",\n",
    "                                  obstime = datetime_arr[0],\n",
    "                                  )\n",
    "    else :\n",
    "        sc_coord = SkyCoord(x=sc.x*modifier,\n",
    "                                  y=sc.y*modifier,\n",
    "                                  z=sc.z*modifier,\n",
    "                                  frame= sunpy.coordinates.HeliographicCarrington,\n",
    "                                  representation_type='cartesian',\n",
    "                                  observer=\"Earth\",\n",
    "                                  obstime = list(datetime_arr),\n",
    "                                  )\n",
    "    sc_coord.representation_type=representation_type\n",
    "    return sc_coord"
   ]
  },
  {
   "cell_type": "code",
   "execution_count": null,
   "metadata": {},
   "outputs": [],
   "source": [
    "wind.vr"
   ]
  },
  {
   "cell_type": "code",
   "execution_count": null,
   "metadata": {},
   "outputs": [],
   "source": [
    "l1_factor = 0.99029\n",
    "wind_carrington = get_sc_trajectory(wind.Time,spice_str='L1')\n",
    "wind_carrington.representation_type = 'spherical'\n",
    "wind_carrington = SkyCoord(lon=wind_carrington.lon, lat=wind_carrington.lat, radius=wind_carrington.radius*l1_factor, representation_type=\"spherical\",\n",
    "                          frame = wind_carrington.frame)\n",
    "\n",
    "ts_common = np.array([dt.timestamp() for dt in wind.Time])\n",
    "wind_vr_ts = [int(dt.timestamp()) for dt in wind.Time]\n",
    "wind_vr_common = interp1d(wind_vr_ts, wind.vr, bounds_error=False)(ts_common)*u.km/u.s\n",
    "wind_projected = psp_funcs.ballistically_project(wind_carrington, vr_arr=wind_vr_common, r_inner=2.5*u.R_sun)"
   ]
  },
  {
   "cell_type": "code",
   "execution_count": null,
   "metadata": {},
   "outputs": [],
   "source": [
    "fig, ax = plt.subplots(2, figsize=[12, 3])\n",
    "ax[0].scatter(wind.Time, wind_projected.lon.value)\n",
    "ax[1].scatter(wind_projected.lon.value, wind_projected.lat.value)"
   ]
  },
  {
   "attachments": {},
   "cell_type": "markdown",
   "metadata": {},
   "source": [
    "### Dataframe Creation"
   ]
  },
  {
   "cell_type": "code",
   "execution_count": null,
   "metadata": {},
   "outputs": [],
   "source": [
    "wind = pd.read_csv('results/wind.csv')\n",
    "wind['Time'] = [datetime.datetime.strptime(d, '%Y-%m-%d %H:%M:%S.%f') for d in wind.Time]\n",
    "wind"
   ]
  },
  {
   "cell_type": "code",
   "execution_count": null,
   "metadata": {},
   "outputs": [],
   "source": [
    "### ----- CALCULATIONS ----- ###\n",
    "ff = wind\n",
    "### Vap\n",
    "ff['B'] = np.sqrt(ff.Br**2 + ff.Bt**2 + ff.Bn**2)\n",
    "cost = np.abs(ff.Br/ff.B)\n",
    "# ff['vap'] = (ff.vra - ff.vr)/cost\n",
    "\n",
    "# ### Ahe\n",
    "# ff['Ahe'] = ff.Na/ff.Np\n",
    "\n",
    "### TUBULENCE\n",
    "ff['use_dens'] = ff.Np\n",
    "ff['sigmac'],ff['sigmar'], ff['vA'], ff['Zp'],ff['Zm'], ff['deltav'], ff['deltab'] = sigma.calc_sigma(ff, num=10)\n",
    "ff = ff.drop(['use_dens'], axis=1)\n",
    "\n",
    "### MACH NUMBER\n",
    "ff['MA'] = ff.vr / ff.vA\n",
    "# ff['MS'] = np.sqrt((ff.vr)**2 + (ff.vt)**2 + (ff.vn)**2)/con.speed_of_sound\n",
    "\n",
    "### BETA\n",
    "ff['betap'] = beta(np.array(ff.Tp)*u.eV, np.array(ff.Np)/(u.cm*u.cm*u.cm), np.array(ff.B)*u.nT).value\n",
    "ff['betae'] = beta(np.array(ff.Te)*u.eV, np.array(ff.Ne)/(u.cm*u.cm*u.cm), np.array(ff.B)*u.nT).value\n",
    "ff['beta'] = beta(np.array(ff.Tp)*u.eV, np.array(ff.Np)/(u.cm*u.cm*u.cm), np.array(ff.B)*u.nT).value\n",
    "\n",
    "### MAGNETIC PRESSURE\n",
    "B = (ff.B*(10**(-9)))\n",
    "ff['Pm'] = (B**2)/(2*con.mu_0)\n",
    "\n",
    "### PROTON PRESSURE\n",
    "Tt = ff.Tp/11605 ## eV to Kelvin\n",
    "nn = ff.Np/(1e-6) ##cm^-3 to m^-3\n",
    "ff['Pp'] = nn * con.Boltzmann * Tt\n",
    "\n",
    "### ALPHA PRESSURE\n",
    "# Tt = ff.Ta/11605 ## eV to Kelvin\n",
    "# nn = ff.Na/(1e-6) ##cm^-3 to m^-3\n",
    "# ff['Pa'] = nn * con.Boltzmann * Tt\n",
    "\n",
    "### PARKER DF\n",
    "wind = ff.copy()\n",
    "wind"
   ]
  },
  {
   "cell_type": "code",
   "execution_count": null,
   "metadata": {},
   "outputs": [],
   "source": [
    "wind['lon'] = wind_carrington.lon.value\n",
    "wind['lat'] = wind_carrington.lat.value\n",
    "wind['rAU'] = wind_carrington.radius.value\n",
    "wind['sslon'] = wind_projected.lon.value\n",
    "wind['sslat'] = wind_projected.lat.value\n",
    "wind['ssrAU'] = wind_projected.radius.value\n",
    "wind['BrR2'] = wind.Br * (wind.rAU**2)\n",
    "wind['NpR2'] = wind.Np * (wind.rAU**2)\n",
    "wind['NeR2'] = wind.Ne * (wind.rAU**2)\n",
    "wind.to_csv('results/wind.csv')"
   ]
  },
  {
   "cell_type": "code",
   "execution_count": null,
   "metadata": {},
   "outputs": [],
   "source": [
    "fig, axs = plt.subplots(6, figsize=[30, 12])\n",
    "var = ['vr', 'MA', 'Br', 'betap', 'Np', 'sigmac']\n",
    "\n",
    "for i, vv in enumerate(var):\n",
    "    axs[i].scatter(wind.sslon, wind[vv], color='thistle', s=3)\n",
    "    axs[i].set(ylabel=vv)\n",
    "    axs[i].axvspan(8, 19, color='lightblue', zorder=-1)\n",
    "# ax.set(xlim=(0, 30))\n"
   ]
  },
  {
   "attachments": {},
   "cell_type": "markdown",
   "metadata": {},
   "source": [
    "# COMPARE TRAJECTORIES"
   ]
  },
  {
   "cell_type": "code",
   "execution_count": null,
   "metadata": {},
   "outputs": [],
   "source": [
    "wind_carrington = get_sc_trajectory(wind.Time,spice_str='L1')\n",
    "\n",
    "plt.plot(wind_carrington.x, wind_carrington.y)\n",
    "\n",
    "# parker = pd.read_csv('results/parker.csv')\n",
    "# parker['Time'] = [datetime.datetime.strptime(d, '%Y-%m-%d %H:%M:%S.%f') for d in parker.Time]\n",
    "psp_inertial = astrospice.generate_coords(\n",
    "    'SOLAR PROBE PLUS', parker.Time\n",
    ")\n",
    "### Transform to solar co-rotating frame \n",
    "psp_carrington = psp_inertial.transform_to(\n",
    "    scoords.HeliographicCarrington(observer=\"self\")\n",
    ")\n",
    "psp_carrington.representation_type = 'cartesian'\n",
    "plt.plot((psp_carrington.x).to(u.AU), (psp_carrington.y).to(u.AU))\n"
   ]
  },
  {
   "cell_type": "code",
   "execution_count": null,
   "metadata": {},
   "outputs": [],
   "source": [
    "def gen_dt_arr(dt_init,dt_final,cadence_days=1) :\n",
    "    \"\"\"\n",
    "    Get array of datetime.datetime from {dt_init} to {dt_final} every \n",
    "    {cadence_days} days\n",
    "    \"\"\"\n",
    "    dt_list = []\n",
    "    while dt_init < dt_final :\n",
    "        dt_list.append(dt_init)\n",
    "        dt_init += datetime.timedelta(days=cadence_days)\n",
    "    return np.array(dt_list)\n",
    "\n",
    "dt_start,dt_end = datetime.datetime(2023,3,1),datetime.datetime(2023,4,1)\n",
    "dt_common = gen_dt_arr(dt_start, dt_end, cadence_days=1/48)\n",
    "ts_common = np.array([dt.timestamp() for dt in dt_common])\n",
    "psp_vr_ts = [int(dt.timestamp()) for dt in parker.Time]\n",
    "wind_vr_ts = [int(dt.timestamp()) for dt in wind.Time]\n",
    "\n",
    "psp_vr_common = interp1d(psp_vr_ts,parker.vr,bounds_error=False)(ts_common)*u.km/u.s\n",
    "wind_vr_common = interp1d(wind_vr_ts,wind.vr,bounds_error=False)(ts_common)*u.km/u.s\n",
    "\n",
    "### Create SkyCoord for PSP in the inertial (J2000) frame\n",
    "psp_inertial = astrospice.generate_coords(\n",
    "    'SOLAR PROBE PLUS',dt_common\n",
    ")\n",
    "### Transform to solar co-rotating frame \n",
    "psp_carrington = psp_inertial.transform_to(\n",
    "    sunpy.coordinates.HeliographicCarrington(observer=\"self\")\n",
    ")\n",
    "psp_projected = psp_funcs.ballistically_project(psp_carrington, vr_arr=psp_vr_common, r_inner=2.5*u.R_sun)\n",
    "l1_factor = 0.99029\n",
    "wind_carrington = get_sc_trajectory(dt_common,spice_str='L1')\n",
    "wind_carrington.representation_type = 'spherical'\n",
    "wind_carrington = SkyCoord(lon=wind_carrington.lon, lat=wind_carrington.lat, radius=wind_carrington.radius*l1_factor, representation_type=\"spherical\",\n",
    "                          frame = wind_carrington.frame)\n",
    "wind_projected = psp_funcs.ballistically_project(wind_carrington, r_inner=2.5*u.R_sun)\n"
   ]
  },
  {
   "cell_type": "code",
   "execution_count": null,
   "metadata": {},
   "outputs": [],
   "source": [
    "### Set up panels\n",
    "fig = plt.figure(figsize=(12,15))\n",
    "gs = plt.GridSpec(6,24,figure=fig)\n",
    "axes = np.array(\n",
    "    [fig.add_subplot(gs[0:4,:]),\n",
    "     fig.add_subplot(gs[4:,:])\n",
    "    ]\n",
    ")\n",
    "# fig, axes = plt.subplots(1, figsize=[12, 12])\n",
    "\n",
    "### Plot trajectories and annotate dates\n",
    "label_cadence = 96 # Every 24 hours\n",
    "\n",
    "psp_carrington.representation_type=\"cartesian\"\n",
    "axes[0].plot(\n",
    "    psp_carrington.x.to(\"R_sun\"),\n",
    "    psp_carrington.y.to(\"R_sun\"),\n",
    "    color=\"red\",linewidth=2,label=\"PSP\",zorder=10\n",
    ")\n",
    "axes[0].scatter(\n",
    "    psp_carrington.x.to(\"R_sun\")[::label_cadence],\n",
    "    psp_carrington.y.to(\"R_sun\")[::label_cadence],\n",
    "    color=\"k\",zorder=10\n",
    ")\n",
    "\n",
    "wind_carrington.representation_type=\"cartesian\"\n",
    "axes[0].plot(\n",
    "    wind_carrington.x.to(\"R_sun\"),\n",
    "    wind_carrington.y.to(\"R_sun\"),\n",
    "    color=\"blue\",linewidth=2,label=\"SolO\",zorder=10\n",
    ")\n",
    "axes[0].scatter(\n",
    "    wind_carrington.x.to(\"R_sun\")[::label_cadence],\n",
    "    wind_carrington.y.to(\"R_sun\")[::label_cadence],\n",
    "    color=\"k\",zorder=10\n",
    ")\n",
    "\n",
    "for dt,pspc,soc in zip(dt_common[::label_cadence],\n",
    "                       psp_carrington[::label_cadence],\n",
    "                       wind_carrington[::label_cadence]) :\n",
    "    axes[0].text(pspc.x.to(\"R_sun\").value,\n",
    "                 pspc.y.to(\"R_sun\").value,\n",
    "                f\"{dt.month:02d}/{dt.day:02d}\",rotation=-45,color=\"black\",\n",
    "                verticalalignment=\"top\",\n",
    "                horizontalalignment=\"left\",zorder=10,fontsize=16\n",
    "               )\n",
    "    axes[0].text(soc.x.to(\"R_sun\").value,\n",
    "                 soc.y.to(\"R_sun\").value,\n",
    "                 f\"{dt.month:02d}/{dt.day:02d}\",rotation=-45,color=\"black\",\n",
    "                 verticalalignment=\"bottom\",\n",
    "                 horizontalalignment=\"right\",zorder=10,\n",
    "                 fontsize=16\n",
    "               )\n",
    "    \n",
    "#### BOTTOM PANEL #####\n",
    "\n",
    "wind_carrington.representation_type=\"spherical\"\n",
    "axes[1].scatter(\n",
    "    wind_carrington.lon.to(\"deg\")[::48],\n",
    "    wind_carrington.lat.to(\"deg\")[::48]+0.3*u.deg,\n",
    "    color=\"black\",zorder=10,marker='s',s=50\n",
    ")\n",
    "\n",
    "axes[1].scatter(\n",
    "    wind_projected.lon.to(\"deg\")[::48],\n",
    "    wind_projected.lat.to(\"deg\")[::48],\n",
    "    color=\"black\",zorder=10,marker='s',s=50\n",
    ")\n",
    "\n",
    "normsolo=plt.Normalize(200,600) # Normalize SolO and PSP data separately due to acceleration\n",
    "normpsp=plt.Normalize(100,400)\n",
    "# for dt,pspc,soc in zip(dt_common[::48],\n",
    "#                        wind_carrington[::48],\n",
    "#                        wind_projected[::48]) :\n",
    "#     axes[1].text(pspc.lon.value,\n",
    "#             pspc.lat.value+0.3,\n",
    "#             f\"{dt.month:02d}/{dt.day:02d}\",\n",
    "#             rotation=0,color=\"black\",\n",
    "#             verticalalignment=\"bottom\",horizontalalignment=\"left\",zorder=10,\n",
    "#             fontsize=16\n",
    "#            )\n",
    "#     axes[1].text(soc.lon.value,\n",
    "#             soc.lat.value-0.2,\n",
    "#             f\"{dt.month:02d}/{dt.day:02d}\",\n",
    "#             rotation=-45,color=\"black\",\n",
    "#             verticalalignment=\"top\",horizontalalignment=\"left\",zorder=10,\n",
    "#             fontsize=16\n",
    "#            )\n",
    "\n",
    "cpsp=axes[1].scatter(wind_carrington.lon,\n",
    "                     wind_carrington.lat+1*u.deg,               \n",
    "                     c='red', label='Trajectory - Wind'\n",
    "                  )\n",
    "csolo=axes[1].scatter(wind_projected.lon,\n",
    "                      wind_projected.lat,               \n",
    "                      c='blue',\n",
    "                      label='Projected - Wind'\n",
    "                    )\n",
    "\n",
    "axes[0].set_xlabel(\"X Carrington ($R_{\\odot}$)\")\n",
    "axes[0].set_ylabel(\"Y Carrington ($R_{\\odot}$)\")\n"
   ]
  },
  {
   "cell_type": "code",
   "execution_count": null,
   "metadata": {},
   "outputs": [],
   "source": [
    "plt.scatter(wind.Time, wind.sslon)\n",
    "plt.scatter(dt_common, wind_projected.lon)"
   ]
  },
  {
   "attachments": {},
   "cell_type": "markdown",
   "metadata": {},
   "source": [
    "# MMS Data\n",
    "\n",
    "- FGM: Fluxgate Magnetometer -- magnetic field\n",
    "- FPI: Fast Plasma Investigation -- density and velocity measurements"
   ]
  },
  {
   "cell_type": "code",
   "execution_count": null,
   "metadata": {},
   "outputs": [],
   "source": [
    "time_range = ['2023-03-21/00:00', '2023-04-01/00:00']\n"
   ]
  },
  {
   "cell_type": "code",
   "execution_count": null,
   "metadata": {},
   "outputs": [],
   "source": [
    "# pyspedas.mms.fgm(trange=time_range, time_clip=True)\n",
    "# tplot(['mms1_fgm_b_gsm_srvy_l2_btot', 'mms1_fgm_b_gsm_srvy_l2_bvec'])\n",
    "\n",
    "d1 = get_data('mms1_fgm_b_gsm_srvy_l2_btot')\n",
    "d2 = get_data('mms1_fgm_b_gsm_srvy_l2_bvec')\n",
    "date_obj = [datetime.datetime.strptime(time_string(d), '%Y-%m-%d %H:%M:%S.%f') for d in d1.times]\n",
    "rd = {'Time': date_obj, 'B': d1.y, 'Bx': d2.y[:, 0], 'By': d2.y[:, 1], 'Bz': d2.y[:, 2]}\n",
    "\n",
    "mag = pd.DataFrame(data=rd, index=None)\n",
    "\n",
    "mag.to_csv('results/mms_mag.csv')"
   ]
  },
  {
   "cell_type": "code",
   "execution_count": null,
   "metadata": {},
   "outputs": [],
   "source": [
    "pyspedas.mms.fpi(trange=time_range, datatype='des-moms')\n",
    "tplot(['mms1_des_energyspectr_omni_fast', 'mms1_des_bulkv_gse_fast', 'mms1_des_numberdensity_fast'])"
   ]
  },
  {
   "cell_type": "code",
   "execution_count": null,
   "metadata": {},
   "outputs": [],
   "source": [
    "hpcavars = pyspedas.mms.hpca(trange=time_range, datatype='moments')"
   ]
  },
  {
   "cell_type": "code",
   "execution_count": null,
   "metadata": {},
   "outputs": [],
   "source": [
    "hpcavars"
   ]
  },
  {
   "cell_type": "code",
   "execution_count": null,
   "metadata": {},
   "outputs": [],
   "source": [
    "tplot(['mms1_hpca_hplus_ion_bulk_velocity',\n",
    "       'mms1_hpca_hplus_number_density',\n",
    " 'mms1_hpca_heplus_number_density',\n",
    " 'mms1_hpca_heplusplus_number_density',\n",
    " 'mms1_hpca_oplus_number_density',\n",
    " 'mms1_hpca_hplus_ion_pressure'\n",
    " ])\n",
    "\n",
    "hpv = get_data('mms1_hpca_hplus_ion_bulk_velocity')\n",
    "hpn = get_data('mms1_hpca_hplus_number_density')\n",
    "hepn = get_data('mms1_hpca_heplus_number_density')\n",
    "heppn = get_data('mms1_hpca_heplusplus_number_density')\n",
    "opn = get_data('mms1_hpca_oplus_number_density')\n",
    "press = get_data('mms1_hpca_hplus_ion_pressure')\n",
    "Tp = get_data('mms1_hpca_hplus_scalar_temperature')\n",
    "pressure = [np.trace(pp) for pp in press.y]\n",
    "date_obj = [datetime.datetime.strptime(time_string(d), '%Y-%m-%d %H:%M:%S.%f') for d in hpv.times]\n",
    "\n",
    "rd = {'Time': date_obj, 'hpvx': hpv.y[:, 0],  'hpvy': hpv.y[:, 1],  'hpvz': hpv.y[:, 2],\n",
    "'hpN': hpn.y, 'hepN': hepn.y, 'heppN': heppn.y, 'opN': opn.y, 'hpP': pressure, 'Tp': Tp.y}\n",
    "\n",
    "hpca = pd.DataFrame(data=rd, index=None)\n",
    "\n",
    "hpca.to_csv('results/mms_composition.csv')"
   ]
  },
  {
   "cell_type": "code",
   "execution_count": null,
   "metadata": {},
   "outputs": [],
   "source": [
    "fig, axs = plt.subplots(5, figsize=[20, 12], sharex='all', gridspec_kw={'hspace': 0})\n",
    "lw=1\n",
    "scol = 'lightgreen'\n",
    "tspan = [pd.Timestamp('2023-03-28 12:00'), pd.Timestamp('2023-03-31 01:00'), pd.Timestamp('2023-03-27 00:00'), pd.Timestamp('2023-03-27 20:00'), pd.Timestamp('2023-03-25 02:00'), pd.Timestamp('2023-03-27 00:00')]\n",
    "ylabels = [r'$\\rm v_p \\; [km s^{-1}]$', r'$\\rm N_{H^{+}} \\; [cm^{-3}]$',\n",
    "r'$\\rm He^{+} / H^{+}$', r'$\\rm He^{++} / H^{+}$', r'$\\rm O^{+} / H^{+}$']\n",
    "data = [hpca.hpN, hpca.hepN/hpca.hpN,  hpca.heppN/hpca.hpN,  hpca.opN/hpca.hpN]\n",
    "\n",
    "ax = axs[0]\n",
    "ax.plot(hpca.Time, hpca.hpvx, c='tab:red', lw=lw, label=r'$\\rm v_x$')\n",
    "ax.plot(hpca.Time, hpca.hpvy, c='tab:blue', lw=lw, label=r'$\\rm v_y$')\n",
    "ax.plot(hpca.Time, hpca.hpvz, c='tab:green', lw=lw, label=r'$\\rm v_z$')\n",
    "ax.set_ylabel(ylabels[0], fontsize=18)\n",
    "ax.legend(loc='upper left', fontsize=18)\n",
    "ax.tick_params(axis='both', which='major', labelsize=16) \n",
    "ax.grid(True, linestyle='--', linewidth=0.5, alpha=0.5)\n",
    "ax.axvspan(tspan[0], tspan[1], color='lavender', zorder=-1)\n",
    "ax.axvspan(tspan[2], tspan[3], color=scol, zorder=-1)\n",
    "ax.axvspan(tspan[4], tspan[5], color='lavender', zorder=-1)\n",
    "for i, ax in enumerate(axs[1:]):\n",
    "    ax.scatter(hpca.Time, data[i], c='k', lw=lw, s=2)\n",
    "    ax.set_ylabel(ylabels[i+1], fontsize=18)\n",
    "    ax.tick_params(axis='both', which='major', labelsize=16) \n",
    "    ax.grid(True, linestyle='--', linewidth=0.5, alpha=0.5)\n",
    "    ax.set_yscale('log')\n",
    "    ax.axvspan(tspan[0], tspan[1], color='lavender', zorder=-3)\n",
    "    ax.axvspan(tspan[2], tspan[3], color=scol, zorder=-3)\n",
    "    ax.axvspan(tspan[4], tspan[5], color='lavender', zorder=-1)\n",
    "\n",
    "plt.savefig(os.path.join('figures', 'mms_composition.png'))"
   ]
  },
  {
   "attachments": {},
   "cell_type": "markdown",
   "metadata": {},
   "source": [
    "## Combine Dataframes"
   ]
  },
  {
   "cell_type": "code",
   "execution_count": null,
   "metadata": {},
   "outputs": [],
   "source": [
    "hpca"
   ]
  },
  {
   "cell_type": "code",
   "execution_count": null,
   "metadata": {},
   "outputs": [],
   "source": [
    "mag"
   ]
  },
  {
   "cell_type": "code",
   "execution_count": null,
   "metadata": {},
   "outputs": [],
   "source": [
    "ff = pd.merge_asof(hpca, mag, on='Time', direction='backward')\n",
    "ff['vr'] = ff.hpvx\n",
    "ff['vt'] = ff.hpvy\n",
    "ff['vn'] = ff.hpvz\n",
    "ff['Br'] = ff.Bx\n",
    "ff['Bt'] = ff.By\n",
    "ff['Bn'] = ff.Bz\n",
    "ff['Np'] = ff.hpN"
   ]
  },
  {
   "cell_type": "code",
   "execution_count": null,
   "metadata": {},
   "outputs": [],
   "source": [
    "### ----- CALCULATIONS ----- ###\n",
    "### TUBULENCE\n",
    "ff['use_dens'] = ff.Np\n",
    "ff['sigmac'],ff['sigmar'], ff['vA'], ff['Zp'],ff['Zm'], ff['deltav'], ff['deltab'] = sigma.calc_sigma(ff, num=120)\n",
    "ff = ff.drop(['use_dens'], axis=1)\n",
    "\n",
    "### MACH NUMBER\n",
    "ff['MA'] = ff.vr / ff.vA\n",
    "\n",
    "### BETA\n",
    "ff['betap'] = beta(np.array(ff.Tp)*u.eV, np.array(ff.Np)/(u.cm*u.cm*u.cm), np.array(ff.B)*u.nT).value\n",
    "\n",
    "### MAGNETIC PRESSURE\n",
    "B = (ff.B*(10**(-9)))\n",
    "ff['Pm'] = (B**2)/(2*con.mu_0)\n",
    "\n",
    "### PROTON PRESSURE\n",
    "Tt = ff.Tp/11605 ## eV to Kelvin\n",
    "nn = ff.hpN/(1e-6) ##cm^-3 to m^-3\n",
    "ff['Pp'] = nn * con.Boltzmann * Tt\n",
    "\n",
    "### PARKER DF\n",
    "mms = ff.copy()\n",
    "mms.to_csv('results/mms.csv')"
   ]
  },
  {
   "cell_type": "markdown",
   "metadata": {},
   "source": []
  },
  {
   "cell_type": "code",
   "execution_count": null,
   "metadata": {},
   "outputs": [],
   "source": []
  }
 ],
 "metadata": {
  "kernelspec": {
   "display_name": "Python 3",
   "language": "python",
   "name": "python3"
  },
  "language_info": {
   "codemirror_mode": {
    "name": "ipython",
    "version": 3
   },
   "file_extension": ".py",
   "mimetype": "text/x-python",
   "name": "python",
   "nbconvert_exporter": "python",
   "pygments_lexer": "ipython3",
   "version": "3.8.16 | packaged by conda-forge | (default, Feb  1 2023, 16:01:13) \n[Clang 14.0.6 ]"
  },
  "orig_nbformat": 4,
  "vscode": {
   "interpreter": {
    "hash": "ff33bd1c68fd18cad7c7dda42a3b2eabf8f517631236701e465b5d513c967cbf"
   }
  }
 },
 "nbformat": 4,
 "nbformat_minor": 2
}
