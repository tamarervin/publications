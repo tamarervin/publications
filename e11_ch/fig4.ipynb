{
 "cells": [
  {
   "attachments": {},
   "cell_type": "markdown",
   "metadata": {},
   "source": [
    "# Figure Four: Elemental and Charge State Composition\n",
    "\n",
    "- Panel (a): Fe/O ratio \n",
    "- Panel (b): Ion charge state ratios\n",
    "- Panels (c), (d), (e): Correlations between abundances"
   ]
  },
  {
   "attachments": {},
   "cell_type": "markdown",
   "metadata": {},
   "source": [
    "## Imports"
   ]
  },
  {
   "cell_type": "code",
   "execution_count": 1,
   "metadata": {},
   "outputs": [
    {
     "data": {
      "application/vnd.jupyter.widget-view+json": {
       "model_id": "442cbe1f1cbf4063acf4de42a986ea30",
       "version_major": 2,
       "version_minor": 0
      },
      "text/plain": [
       "Files Downloaded:   0%|          | 0/1 [00:00<?, ?file/s]"
      ]
     },
     "metadata": {},
     "output_type": "display_data"
    },
    {
     "name": "stderr",
     "output_type": "stream",
     "text": [
      "08-Jan-24 10:56:26: /Users/tamarervin/miniconda3/envs/analysis/lib/python3.11/site-packages/erfa/core.py:154: ErfaWarning: ERFA function \"dtf2d\" yielded 1 of \"dubious year (Note 6)\"\n",
      "  warnings.warn('ERFA function \"{}\" yielded {}'.format(func_name, wmsg),\n",
      "\n"
     ]
    },
    {
     "data": {
      "application/vnd.jupyter.widget-view+json": {
       "model_id": "c9caf3d2768d4c6f935380cc4e8ac164",
       "version_major": 2,
       "version_minor": 0
      },
      "text/plain": [
       "Files Downloaded:   0%|          | 0/1 [00:00<?, ?file/s]"
      ]
     },
     "metadata": {},
     "output_type": "display_data"
    }
   ],
   "source": [
    "import os\n",
    "\n",
    "import datetime\n",
    "import numpy as np\n",
    "import pandas as pd\n",
    "import astropy.units as u\n",
    "import matplotlib.pyplot as plt\n",
    "from scipy.interpolate import interp1d\n",
    "\n",
    "import astrospice\n",
    "import sunpy.coordinates as scoords\n",
    "from astropy.coordinates import SkyCoord\n",
    "\n",
    "import tools.sigma as sigma\n",
    "import tools.utilities as utils\n",
    "from tools.psp_funcs import ballistically_project\n",
    "for sc in ['psp','solar orbiter'] : kernels = astrospice.registry.get_kernels(sc,'predict') \n",
    "\n",
    "# COLORS\n",
    "c = ['#ae017e','#085A99',  '#c98000'] # darker colors\n",
    "lightc = ['#FCA4C4',  '#8FD3F4', '#FFCC70'] # lighter colors\n",
    "fcol = 'mistyrose'\n",
    "sacol='lavender'\n",
    "sacol = 'violet'\n",
    "scol = 'lightgreen'\n",
    "hcol = 'lightblue'\n",
    "aa = 0.6\n",
    "lw=2\n",
    "clon = '#ae017e'\n",
    "clat = '#085A99'\n",
    "rcol = 'dimgrey'\n",
    "cmaps = ['RdPu', 'cool', 'Wistia', 'spring']\n",
    "\n",
    "# REGIONS\n",
    "loc_hcs = [113, 116]\n",
    "ssw = [166, 175]\n",
    "sasw = [175, 185]\n",
    "fsw = [70, 85]\n",
    "\n",
    "# DIRECTORIES\n",
    "IMG_DIR = './figures'\n",
    "DF_DIR = './results'\n",
    "PlotDir = '/Users/tamarervin/mplstyle/'\n",
    "\n",
    "STORAGE_DIR = '/Volumes/TAMARUSB/pub_data/e11_ch'\n",
    "RES_DIR = os.path.join(STORAGE_DIR, 'results')\n",
    "\n",
    "# PLOT STYLING\n",
    "plot_style = os.path.join(PlotDir, 'figure_series.mplstyle')\n",
    "plt.rcParams['mathtext.fontset'] = 'custom'\n",
    "plt.rcParams['mathtext.cal'] = 'Helvetica Neue LT Pro'\n",
    "plt.rcParams.update({'font.size': 18})\n",
    "plt.style.use(plot_style)"
   ]
  },
  {
   "attachments": {},
   "cell_type": "markdown",
   "metadata": {},
   "source": [
    "## Data"
   ]
  },
  {
   "cell_type": "code",
   "execution_count": null,
   "metadata": {},
   "outputs": [],
   "source": [
    "# ### READ IN DATA ###\n",
    "parker, parkerdownt, parkerdownl, pss, orbiter, orbiterdownl, orbiterdownt, oss, his_orbiter, his_orbiterdownt, his_orbiterdownl = utils.read_data(RES_DIR, sigma_time=20)\n",
    "\n",
    "### DEFINE REGIONS ###\n",
    "lon_footpoints = parker.sslon\n",
    "hhcs = np.logical_and(lon_footpoints >= loc_hcs[0], lon_footpoints <=loc_hcs[1])\n",
    "slow = np.logical_and(lon_footpoints >=sasw[0], lon_footpoints <=sasw[1])\n",
    "fast = np.logical_and(lon_footpoints >=fsw[0], lon_footpoints <=fsw[1])\n"
   ]
  },
  {
   "attachments": {},
   "cell_type": "markdown",
   "metadata": {},
   "source": [
    "## Figure Four: SWA/HIS Abundance Figure\n",
    "\n",
    "- Panel (a): Fe/O ratio \n",
    "- Panel (b): Ion charge state ratios\n",
    "- Panels (c), (d), (e): Correlations between abundances"
   ]
  },
  {
   "cell_type": "code",
   "execution_count": null,
   "metadata": {},
   "outputs": [],
   "source": [
    "### REGION IDENTIFICATION ###\n",
    "lon_footpoints = abun.lon\n",
    "fast = np.logical_and(lon_footpoints >= fsw[0], lon_footpoints <=fsw[1])\n",
    "salf = np.logical_and(lon_footpoints >= sasw[0], lon_footpoints <=sasw[1])\n",
    "hhcs = np.logical_and(lon_footpoints >= loc_hcs[0], lon_footpoints <=loc_hcs[1])\n",
    "slow = np.logical_and(lon_footpoints >=ssw[0], lon_footpoints <=ssw[1])"
   ]
  },
  {
   "cell_type": "code",
   "execution_count": null,
   "metadata": {},
   "outputs": [],
   "source": [
    "### SET UP FIGURE\n",
    "fig = plt.figure(figsize=(30, 14))\n",
    "grid = plt.GridSpec(2, 3, width_ratios=[3, 1, 1], hspace=0, wspace=.15)\n",
    "si=30\n",
    "\n",
    "##### ---------- PANEL (A): ELEMENTAL COMPOSITION  ---------- ######\n",
    "ax1 = fig.add_subplot(grid[0, 0])\n",
    "\n",
    "### PLOT DATA\n",
    "ax1.scatter(abun.lon, abun.iron/0.0589, color=lightc[2], s=si, alpha=0.5, linewidth=0.5, edgecolor='k')\n",
    "ax1.step(abundownl.lon, abundownl.iron/0.0589, color='k', linewidth=2)\n",
    "ax1.text(0.95, 0.97, '(a)', transform=ax1.transAxes, fontsize=20, fontweight='bold', va='top', ha='left')\n",
    "\n",
    "### HIGHLIGHT SPANS\n",
    "ax1.axhspan(1, 2, alpha=1, color='#FFFF99', zorder=-2)\n",
    "ax1.axhspan(2, 4, alpha=1, color='#D3D3D3', zorder=-2)\n",
    "\n",
    "### AXES LABELS\n",
    "ax1.set(xlim=(45, 205), xticks=np.arange(50, 205, step=50), ylim=(0, 6), yticks=np.arange(1, 5.1, step=2))\n",
    "ax1.set_ylabel(r'$\\rm Abundance$', fontsize=18)\n",
    "\n",
    "### LEGEND\n",
    "Fe_patch = mpatches.Patch(color=c[2],  label= r'$\\rm \\frac{Fe/O}{(Fe/O)_{phot}}$')\n",
    "leg0 = ax1.legend(handles=[Fe_patch], loc='upper left', fontsize=16)\n",
    "ax1.add_artist(leg0)\n",
    "\n",
    "### SHADE REGIONS\n",
    "ax1.axvspan(fsw[0], fsw[1], alpha=1, color=fcol, zorder=-3)\n",
    "ax1.axvspan(sasw[0], sasw[1], alpha=aa, color=sacol, zorder=-3)\n",
    "ax1.axvspan(loc_hcs[0], loc_hcs[1], alpha=aa, color=hcol, zorder=-3)\n",
    "ax1.axvspan(ssw[0], ssw[1], alpha=aa, color=scol, zorder=-3)\n",
    "ax1.axvline(loc_hcs[0], color='k', linestyle='dotted', zorder=5)\n",
    "ax1.axvline(loc_hcs[1], color='k', linestyle='dotted', zorder=5)\n",
    "ax1.axvline(ssw[0], color='k', linestyle='dotted', zorder=5)\n",
    "ax1.axvline(ssw[1], color='k', linestyle='dotted', zorder=5)\n",
    "ax1.axvline(fsw[0], color='k', linestyle='dotted', zorder=5)\n",
    "ax1.axvline(fsw[1], color='k', linestyle='dotted', zorder=5)\n",
    "ax1.axvline(sasw[0], color='k', linestyle='dotted', zorder=5)\n",
    "ax1.axvline(sasw[1], color='k', linestyle='dotted', zorder=5)\n",
    "ax1.grid(True, linestyle='--', linewidth=0.5, alpha=0.5)\n",
    "\n",
    "### REGION LABELS\n",
    "ax = ax1\n",
    "ax.tick_params(axis='both', which='major', labelsize=16) \n",
    "ax.text(0.41, 0.96, r'$\\rm HCS$', transform=ax.transAxes, fontsize=20, fontweight='bold', va='top', ha='left')\n",
    "ax.text(0.18, 0.96, r'$\\rm FSW$', transform=ax.transAxes, fontsize=20, fontweight='bold', va='top', ha='left')\n",
    "ax.text(0.76, 0.96, r'$\\rm SSW$', transform=ax.transAxes, fontsize=20, fontweight='bold', va='top', ha='left')\n",
    "ax.text(0.815, 0.96, r'$\\rm SASW$', transform=ax.transAxes, fontsize=20, fontweight='bold', va='top', ha='left') \n",
    "\n",
    "##### ---------- PANEL (B): ION CHARGE STATE RATIOS  ---------- ######\n",
    "ax1 = fig.add_subplot(grid[1, 0])\n",
    "\n",
    "### PLOT DATA\n",
    "ax1.scatter(abun.lon, abun.car, color=lightc[0], s=si, alpha=0.5, linewidth=0.5, edgecolor='k')\n",
    "ax1.scatter(abun.lon, abun.oxy, color=lightc[1], s=si, alpha=0.5, linewidth=0.5, edgecolor='k')\n",
    "ax1.step(abundownl.lon, abundownl.car, color='k', linewidth=2)\n",
    "ax1.step(abundownl.lon, abundownl.oxy, color='k', linewidth=2)\n",
    "ax1.text(0.95, 0.97, '(b)', transform=ax1.transAxes, fontsize=20, fontweight='bold', va='top', ha='left')\n",
    "ax1.set_yscale('log')\n",
    "\n",
    "### OXYGEN THRESHOLD\n",
    "ax1.axhline(y=0.145, ls='dashed', color='k')\n",
    "\n",
    "### LEGEND \n",
    "C_patch = mpatches.Patch(color=c[0], label=r'$\\rm C^{6+}/C^{4+}$')\n",
    "O_patch = mpatches.Patch(color=c[1],  label=r'$\\rm O^{7+}/O^{6+}$')\n",
    "leg0 = ax1.legend(handles=[C_patch, O_patch], loc='upper left', fontsize=16)\n",
    "ax1.add_artist(leg0)\n",
    "\n",
    "### AXES LABELS\n",
    "ax1.set(xlim=(45, 205), xticks=np.arange(50, 205, step=50))\n",
    "ax1.set_xticklabels(np.arange(50, 205, step=50), fontsize=16)\n",
    "ax1.set_xlabel(r'$\\rm Source \\; Surface \\; Longitude \\; [deg]$', fontsize=18)\n",
    "ax1.set_ylabel(r'$\\rm Abundance$', fontsize=18)\n",
    "\n",
    "### SHADE REGIONS\n",
    "ax1.axvspan(fsw[0], fsw[1], alpha=1, color=fcol, zorder=-3)\n",
    "ax1.axvspan(sasw[0], sasw[1], alpha=aa, color=sacol, zorder=-3)\n",
    "ax1.axvspan(loc_hcs[0], loc_hcs[1], alpha=aa, color=hcol, zorder=-3)\n",
    "ax1.axvspan(ssw[0], ssw[1], alpha=aa, color=scol, zorder=-3)\n",
    "ax1.axvline(loc_hcs[0], color='k', linestyle='dotted', zorder=5)\n",
    "ax1.axvline(loc_hcs[1], color='k', linestyle='dotted', zorder=5)\n",
    "ax1.axvline(ssw[0], color='k', linestyle='dotted', zorder=5)\n",
    "ax1.axvline(ssw[1], color='k', linestyle='dotted', zorder=5)\n",
    "ax1.axvline(fsw[0], color='k', linestyle='dotted', zorder=5)\n",
    "ax1.axvline(fsw[1], color='k', linestyle='dotted', zorder=5)\n",
    "ax1.axvline(sasw[0], color='k', linestyle='dotted', zorder=5)\n",
    "ax1.axvline(sasw[1], color='k', linestyle='dotted', zorder=5)\n",
    "ax1.grid(True, linestyle='--', linewidth=0.5, alpha=0.5)\n",
    "\n",
    "##### ---------- PANELS (C, D, E): CORRELATION PLOTS ---------- ######\n",
    "df = pd.read_csv(os.path.join(DF_DIR, 'abun.csv'))\n",
    "\n",
    "### CREATE PLOTS\n",
    "ax2 = fig.add_subplot(grid[0, 1])\n",
    "ax3 = fig.add_subplot(grid[1, 1])\n",
    "ax4 = fig.add_subplot(grid[1, 2])\n",
    "ax2.grid(True, linestyle='--', linewidth=0.5, alpha=0.5)\n",
    "ax3.grid(True, linestyle='--', linewidth=0.5, alpha=0.5)\n",
    "ax4.grid(True, linestyle='--', linewidth=0.5, alpha=0.5)\n",
    "\n",
    "### PLOT DATA\n",
    "colors = [fcol, hcol, sacol, scol]\n",
    "var = [['oxy', 'car'], ['oxy', 'iron'], ['car', 'iron']]\n",
    "ss=80\n",
    "for i, ax in enumerate([ax2, ax3, ax4]):\n",
    "    ax.tick_params(axis='both', which='major', labelsize=16)\n",
    "    d1 = df[var[i][0]]\n",
    "    d2 = df[var[i][1]]\n",
    "    if var[i][0] == 'iron':\n",
    "        d1 = df[var[i][0]] / 0.0589\n",
    "    elif var[i][1] == 'iron':\n",
    "        d2 = df[var[i][1]] / 0.0589\n",
    "\n",
    "    ax.scatter(d1[fast], d2[fast], c='pink', s=ss, linewidth=0.8, edgecolor='k', zorder=5)\n",
    "    ax.scatter(d1[slow], d2[slow], c=scol, s=ss, linewidth=0.8, edgecolor='k', zorder=5)\n",
    "    ax.scatter(d1[salf], d2[salf], c=sacol, s=ss, linewidth=0.8, edgecolor='k')\n",
    "    ax.scatter(d1[hhcs], d2[hhcs], c=hcol, s=ss, linewidth=0.8, edgecolor='k', zorder=5)\n",
    "\n",
    "### AXES LABELS\n",
    "labels = [r'$\\rm O^{7+}/O^{6+}$', r'$\\rm C^{6+}/C^{4+}$',  r'$\\rm (Fe/O)/(Fe/O)_{phot}$']\n",
    "ax2.set_xlabel(xlabel=labels[0], fontsize=18)\n",
    "ax2.set_ylabel(ylabel=labels[1], fontsize=18)\n",
    "ax3.set_xlabel(xlabel=labels[0], fontsize=18)\n",
    "ax3.set_ylabel(ylabel=labels[2], fontsize=18)\n",
    "ax4.set_xlabel(xlabel=labels[1], fontsize=18)\n",
    "ax4.set_ylabel(ylabel=labels[2], fontsize=18)\n",
    "ax2.set(xlim=(-0.1, 0.5), xticks=np.arange(0, 0.41, step=0.2), ylim=(-1, 13), yticks=np.arange(0, 13, step=2))\n",
    "ax3.set(xlim=(-0.1, 0.5), xticks=np.arange(0, 0.41, step=0.2), ylim=(-1, 7), yticks=np.arange(0, 6.1, step=2))\n",
    "ax4.set(xlim=(-1, 13), xticks=np.arange(0, 12.1, step=6), ylim=(-1, 7), yticks=np.arange(0, 6.1, step=2))\n",
    "ax2.text(0.85, 0.93, '(c)', transform=ax2.transAxes, fontsize=20, fontweight='bold', va='top', ha='left')\n",
    "ax3.text(0.85, 0.93, '(d)', transform=ax3.transAxes, fontsize=20, fontweight='bold', va='top', ha='left')\n",
    "ax4.text(0.85, 0.93, '(e)', transform=ax4.transAxes, fontsize=20, fontweight='bold', va='top', ha='left')\n",
    "\n",
    "### SAVE FIGURE\n",
    "fig.savefig('figures/fig4.png', bbox_inches='tight') #PNG\n",
    "fig.savefig('eps_figures/fig4.eps', bbox_inches='tight') #EPS"
   ]
  },
  {
   "attachments": {},
   "cell_type": "markdown",
   "metadata": {},
   "source": [
    "## Table One: Correlations\n"
   ]
  },
  {
   "cell_type": "code",
   "execution_count": null,
   "metadata": {},
   "outputs": [],
   "source": [
    "df = pd.read_csv(os.path.join(DF_DIR, 'abun.csv'))\n",
    "df = df.dropna()\n",
    "lon_footpoints = df.lon\n",
    "fast = np.logical_and(lon_footpoints >= fsw[0], lon_footpoints <=fsw[1])\n",
    "salf = np.logical_and(lon_footpoints >= sasw[0], lon_footpoints <=sasw[1])\n",
    "hhcs = np.logical_and(lon_footpoints >= loc_hcs[0], lon_footpoints <=loc_hcs[1])\n",
    "slow = np.logical_and(lon_footpoints >=ssw[0], lon_footpoints <=ssw[1])\n",
    "print(np.min(abun.iron/0.0589), np.max(abun.iron/0.0589))\n",
    "corr1 = stats.spearmanr(df.oxy[fast], df.car[fast])[0]\n",
    "corr2 = stats.spearmanr(df.oxy[fast], df.iron[fast])[0]\n",
    "corr3 = stats.spearmanr(df.iron[fast], df.car[fast])[0]\n",
    "print(\"FSW\", corr1, corr2, corr3)\n",
    "corr1 = stats.spearmanr(df.oxy[slow], df.car[slow])[0]\n",
    "corr2 = stats.spearmanr(df.oxy[slow], df.iron[slow])[0]\n",
    "corr3 = stats.spearmanr(df.iron[slow], df.car[slow])[0]\n",
    "print(\"SSW\", corr1, corr2, corr3)\n",
    "corr1 = stats.spearmanr(df.oxy[salf], df.car[salf])[0]\n",
    "corr2 = stats.spearmanr(df.oxy[salf], df.iron[salf])[0]\n",
    "corr3 = stats.spearmanr(df.iron[salf], df.car[salf])[0]\n",
    "print(\"SASW\", corr1, corr2, corr3)\n",
    "corr1 = stats.spearmanr(df.oxy[hhcs], df.car[hhcs])[0]\n",
    "corr2 = stats.spearmanr(df.oxy[hhcs], df.iron[hhcs])[0]\n",
    "corr3 = stats.spearmanr(df.iron[hhcs], df.car[hhcs])[0]\n",
    "print(\"HCS\", corr1, corr2, corr3)\n",
    "corr1 = stats.spearmanr(df.oxy, df.car)[0]\n",
    "corr2 = stats.spearmanr(df.oxy, df.iron)[0]\n",
    "corr3 = stats.spearmanr(df.iron, df.car)[0]\n",
    "print(\"All\", corr1, corr2, corr3)"
   ]
  }
 ],
 "metadata": {
  "kernelspec": {
   "display_name": "analysis",
   "language": "python",
   "name": "python3"
  },
  "language_info": {
   "codemirror_mode": {
    "name": "ipython",
    "version": 3
   },
   "file_extension": ".py",
   "mimetype": "text/x-python",
   "name": "python",
   "nbconvert_exporter": "python",
   "pygments_lexer": "ipython3",
   "version": "3.11.0"
  },
  "orig_nbformat": 4,
  "vscode": {
   "interpreter": {
    "hash": "314a463c9ec415e73039bf8505efa72008c83699ef4429ce33d27e2f772e1c23"
   }
  }
 },
 "nbformat": 4,
 "nbformat_minor": 2
}
