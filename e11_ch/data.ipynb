{
 "cells": [
  {
   "attachments": {},
   "cell_type": "markdown",
   "metadata": {},
   "source": [
    "# Dataframe Creation for E11 CH Composition Study\n",
    "\n",
    "Tamar Ervin\n",
    "Jan 4, 2024"
   ]
  },
  {
   "cell_type": "code",
   "execution_count": 2,
   "metadata": {},
   "outputs": [
    {
     "data": {
      "application/vnd.jupyter.widget-view+json": {
       "model_id": "bbfe9aecc4864d1fbda650bc9a58e130",
       "version_major": 2,
       "version_minor": 0
      },
      "text/plain": [
       "Files Downloaded:   0%|          | 0/1 [00:00<?, ?file/s]"
      ]
     },
     "metadata": {},
     "output_type": "display_data"
    },
    {
     "name": "stderr",
     "output_type": "stream",
     "text": [
      "05-Jan-24 17:24:18: /Users/tamarervin/miniconda3/envs/analysis/lib/python3.11/site-packages/erfa/core.py:154: ErfaWarning: ERFA function \"dtf2d\" yielded 1 of \"dubious year (Note 6)\"\n",
      "  warnings.warn('ERFA function \"{}\" yielded {}'.format(func_name, wmsg),\n",
      "\n"
     ]
    },
    {
     "data": {
      "application/vnd.jupyter.widget-view+json": {
       "model_id": "112bf9a4f9ee4f94942a9740b3052bbb",
       "version_major": 2,
       "version_minor": 0
      },
      "text/plain": [
       "Files Downloaded:   0%|          | 0/1 [00:00<?, ?file/s]"
      ]
     },
     "metadata": {},
     "output_type": "display_data"
    }
   ],
   "source": [
    "import glob\n",
    "import pyspedas\n",
    "from pyspedas import time_string, time_double\n",
    "from pytplot import tplot, get_data, cdf_to_tplot, store_data\n",
    "import astrospice\n",
    "import sunpy \n",
    "import sys, os\n",
    "import datetime\n",
    "import numpy as np\n",
    "sys.path.append(os.path.realpath(''))\n",
    "import pandas as pd\n",
    "import astropy.units as u\n",
    "import matplotlib.pyplot as plt\n",
    "\n",
    "import tools.utilities as utils\n",
    "import tools.sigma as sigma\n",
    "import tools.psp_funcs as psp_funcs\n",
    "import tools.pfss_funcs as pfss_funcs\n",
    "\n",
    "\n",
    "import sunpy.coordinates as scoords\n",
    "from scipy.interpolate import interp1d\n",
    "from plasmapy.formulary import beta, magnetic_pressure, thermal_pressure, ion_sound_speed\n",
    "from astropy.constants import k_B\n",
    "# import heliopy.data.spice as spicedata\n",
    "# import heliopy.spice as spice\n",
    "import scipy.constants as con\n",
    "\n",
    "\n",
    "import matplotlib.pyplot as plt\n",
    "from mpl_toolkits import mplot3d\n",
    "from matplotlib import animation, rc\n",
    "from IPython.display import HTML\n",
    "from astropy.coordinates import SkyCoord\n",
    "\n",
    "import astropy.constants as const\n",
    "import astropy.units as u\n",
    "from ntpath import basename\n",
    "import numpy as np\n",
    "from urllib.request import urlretrieve\n",
    "import os \n",
    "\n",
    "rc('animation',html='html5')\n",
    "\n",
    "\n",
    "RES_DIR = os.path.realpath('results')\n",
    "for sc in ['psp','solar orbiter'] : kernels = astrospice.registry.get_kernels(sc,'predict') \n",
    "\n"
   ]
  },
  {
   "attachments": {},
   "cell_type": "markdown",
   "metadata": {},
   "source": [
    "# Data Download"
   ]
  },
  {
   "cell_type": "code",
   "execution_count": 5,
   "metadata": {},
   "outputs": [],
   "source": [
    "time_range = ['2022-02-23/00:00', '2022-03-01/00:00']\n",
    "enc = 'E11'\n",
    "edens = 'ENC11_QTN_Electron_Density.csv'"
   ]
  },
  {
   "cell_type": "code",
   "execution_count": 6,
   "metadata": {},
   "outputs": [
    {
     "name": "stderr",
     "output_type": "stream",
     "text": [
      "05-Jan-24 17:24:29: Downloading remote index: https://spdf.gsfc.nasa.gov/pub/data/psp/fields/l2/mag_rtn_4_per_cycle/2022/\n",
      "05-Jan-24 17:24:30: Downloading https://spdf.gsfc.nasa.gov/pub/data/psp/fields/l2/mag_rtn_4_per_cycle/2022/psp_fld_l2_mag_rtn_4_sa_per_cyc_20220223_v02.cdf to psp_data/fields/l2/mag_rtn_4_per_cycle/2022/psp_fld_l2_mag_rtn_4_sa_per_cyc_20220223_v02.cdf\n",
      "05-Jan-24 17:24:31: Download complete: psp_data/fields/l2/mag_rtn_4_per_cycle/2022/psp_fld_l2_mag_rtn_4_sa_per_cyc_20220223_v02.cdf\n",
      "05-Jan-24 17:24:31: Downloading https://spdf.gsfc.nasa.gov/pub/data/psp/fields/l2/mag_rtn_4_per_cycle/2022/psp_fld_l2_mag_rtn_4_sa_per_cyc_20220224_v02.cdf to psp_data/fields/l2/mag_rtn_4_per_cycle/2022/psp_fld_l2_mag_rtn_4_sa_per_cyc_20220224_v02.cdf\n",
      "05-Jan-24 17:24:32: Download complete: psp_data/fields/l2/mag_rtn_4_per_cycle/2022/psp_fld_l2_mag_rtn_4_sa_per_cyc_20220224_v02.cdf\n",
      "05-Jan-24 17:24:32: Downloading https://spdf.gsfc.nasa.gov/pub/data/psp/fields/l2/mag_rtn_4_per_cycle/2022/psp_fld_l2_mag_rtn_4_sa_per_cyc_20220225_v02.cdf to psp_data/fields/l2/mag_rtn_4_per_cycle/2022/psp_fld_l2_mag_rtn_4_sa_per_cyc_20220225_v02.cdf\n",
      "05-Jan-24 17:24:33: Download complete: psp_data/fields/l2/mag_rtn_4_per_cycle/2022/psp_fld_l2_mag_rtn_4_sa_per_cyc_20220225_v02.cdf\n",
      "05-Jan-24 17:24:33: Downloading https://spdf.gsfc.nasa.gov/pub/data/psp/fields/l2/mag_rtn_4_per_cycle/2022/psp_fld_l2_mag_rtn_4_sa_per_cyc_20220226_v02.cdf to psp_data/fields/l2/mag_rtn_4_per_cycle/2022/psp_fld_l2_mag_rtn_4_sa_per_cyc_20220226_v02.cdf\n",
      "05-Jan-24 17:24:34: Download complete: psp_data/fields/l2/mag_rtn_4_per_cycle/2022/psp_fld_l2_mag_rtn_4_sa_per_cyc_20220226_v02.cdf\n",
      "05-Jan-24 17:24:35: Downloading https://spdf.gsfc.nasa.gov/pub/data/psp/fields/l2/mag_rtn_4_per_cycle/2022/psp_fld_l2_mag_rtn_4_sa_per_cyc_20220227_v02.cdf to psp_data/fields/l2/mag_rtn_4_per_cycle/2022/psp_fld_l2_mag_rtn_4_sa_per_cyc_20220227_v02.cdf\n",
      "05-Jan-24 17:24:35: Download complete: psp_data/fields/l2/mag_rtn_4_per_cycle/2022/psp_fld_l2_mag_rtn_4_sa_per_cyc_20220227_v02.cdf\n",
      "05-Jan-24 17:24:37: Downloading https://spdf.gsfc.nasa.gov/pub/data/psp/fields/l2/mag_rtn_4_per_cycle/2022/psp_fld_l2_mag_rtn_4_sa_per_cyc_20220228_v02.cdf to psp_data/fields/l2/mag_rtn_4_per_cycle/2022/psp_fld_l2_mag_rtn_4_sa_per_cyc_20220228_v02.cdf\n",
      "05-Jan-24 17:24:38: Download complete: psp_data/fields/l2/mag_rtn_4_per_cycle/2022/psp_fld_l2_mag_rtn_4_sa_per_cyc_20220228_v02.cdf\n",
      "05-Jan-24 17:24:41: Time clip returns full data set.\n",
      "05-Jan-24 17:24:41: Downloading remote index: https://spdf.gsfc.nasa.gov/pub/data/psp/fields/l2/mag_rtn_4_per_cycle/2022/\n",
      "05-Jan-24 17:24:41: File is current: psp_data/fields/l2/mag_rtn_4_per_cycle/2022/psp_fld_l2_mag_rtn_4_sa_per_cyc_20220223_v02.cdf\n",
      "05-Jan-24 17:24:41: File is current: psp_data/fields/l2/mag_rtn_4_per_cycle/2022/psp_fld_l2_mag_rtn_4_sa_per_cyc_20220224_v02.cdf\n",
      "05-Jan-24 17:24:42: File is current: psp_data/fields/l2/mag_rtn_4_per_cycle/2022/psp_fld_l2_mag_rtn_4_sa_per_cyc_20220225_v02.cdf\n",
      "05-Jan-24 17:24:42: File is current: psp_data/fields/l2/mag_rtn_4_per_cycle/2022/psp_fld_l2_mag_rtn_4_sa_per_cyc_20220226_v02.cdf\n",
      "05-Jan-24 17:24:42: File is current: psp_data/fields/l2/mag_rtn_4_per_cycle/2022/psp_fld_l2_mag_rtn_4_sa_per_cyc_20220227_v02.cdf\n",
      "05-Jan-24 17:24:43: File is current: psp_data/fields/l2/mag_rtn_4_per_cycle/2022/psp_fld_l2_mag_rtn_4_sa_per_cyc_20220228_v02.cdf\n",
      "05-Jan-24 17:24:43: Time clip returns full data set.\n",
      "05-Jan-24 17:24:43: Downloading remote index: https://spdf.gsfc.nasa.gov/pub/data/psp/fields/l3/rfs_lfr/2022/\n",
      "05-Jan-24 17:24:43: Downloading https://spdf.gsfc.nasa.gov/pub/data/psp/fields/l3/rfs_lfr/2022/psp_fld_l3_rfs_lfr_20220223_v03.cdf to psp_data/fields/l3/rfs_lfr/2022/psp_fld_l3_rfs_lfr_20220223_v03.cdf\n",
      "05-Jan-24 17:24:47: Download complete: psp_data/fields/l3/rfs_lfr/2022/psp_fld_l3_rfs_lfr_20220223_v03.cdf\n",
      "05-Jan-24 17:24:47: No links matching pattern psp_fld_l3_rfs_lfr_20220224_v??.cdf found at remote index https://spdf.gsfc.nasa.gov/pub/data/psp/fields/l3/rfs_lfr/2022/\n",
      "05-Jan-24 17:24:47: No links matching pattern psp_fld_l3_rfs_lfr_20220225_v??.cdf found at remote index https://spdf.gsfc.nasa.gov/pub/data/psp/fields/l3/rfs_lfr/2022/\n",
      "05-Jan-24 17:24:47: No links matching pattern psp_fld_l3_rfs_lfr_20220226_v??.cdf found at remote index https://spdf.gsfc.nasa.gov/pub/data/psp/fields/l3/rfs_lfr/2022/\n",
      "05-Jan-24 17:24:47: Downloading https://spdf.gsfc.nasa.gov/pub/data/psp/fields/l3/rfs_lfr/2022/psp_fld_l3_rfs_lfr_20220227_v03.cdf to psp_data/fields/l3/rfs_lfr/2022/psp_fld_l3_rfs_lfr_20220227_v03.cdf\n",
      "05-Jan-24 17:24:49: Download complete: psp_data/fields/l3/rfs_lfr/2022/psp_fld_l3_rfs_lfr_20220227_v03.cdf\n",
      "05-Jan-24 17:24:49: Downloading https://spdf.gsfc.nasa.gov/pub/data/psp/fields/l3/rfs_lfr/2022/psp_fld_l3_rfs_lfr_20220228_v03.cdf to psp_data/fields/l3/rfs_lfr/2022/psp_fld_l3_rfs_lfr_20220228_v03.cdf\n",
      "05-Jan-24 17:24:54: Download complete: psp_data/fields/l3/rfs_lfr/2022/psp_fld_l3_rfs_lfr_20220228_v03.cdf\n",
      "05-Jan-24 17:25:00: Time clip returns full data set.\n",
      "05-Jan-24 17:25:00: Time clip returns full data set.\n",
      "05-Jan-24 17:25:00: Time clip returns full data set.\n",
      "05-Jan-24 17:25:00: Time clip returns full data set.\n",
      "05-Jan-24 17:25:00: Time clip returns full data set.\n",
      "05-Jan-24 17:25:00: Time clip returns full data set.\n",
      "05-Jan-24 17:25:00: Time clip returns full data set.\n",
      "05-Jan-24 17:25:00: Time clip returns full data set.\n",
      "05-Jan-24 17:25:00: Time clip returns full data set.\n",
      "05-Jan-24 17:25:00: Time clip returns full data set.\n",
      "05-Jan-24 17:25:00: Time clip returns full data set.\n",
      "05-Jan-24 17:25:00: Time clip returns full data set.\n",
      "05-Jan-24 17:25:00: Time clip returns full data set.\n",
      "05-Jan-24 17:25:00: Time clip returns full data set.\n",
      "05-Jan-24 17:25:00: Time clip returns full data set.\n",
      "05-Jan-24 17:25:00: Time clip returns full data set.\n",
      "05-Jan-24 17:25:00: Time clip returns full data set.\n",
      "05-Jan-24 17:25:00: Time clip returns full data set.\n",
      "05-Jan-24 17:25:00: Time clip returns full data set.\n",
      "05-Jan-24 17:25:00: Time clip returns full data set.\n",
      "05-Jan-24 17:25:00: Time clip returns full data set.\n",
      "05-Jan-24 17:25:00: Time clip returns full data set.\n",
      "05-Jan-24 17:25:00: Time clip returns full data set.\n",
      "05-Jan-24 17:25:00: Time clip returns full data set.\n",
      "05-Jan-24 17:25:00: Time clip returns full data set.\n",
      "05-Jan-24 17:25:00: Time clip returns full data set.\n",
      "05-Jan-24 17:25:00: Time clip returns full data set.\n",
      "05-Jan-24 17:25:00: Time clip returns full data set.\n",
      "05-Jan-24 17:25:00: Time clip returns full data set.\n",
      "05-Jan-24 17:25:00: Time clip returns full data set.\n",
      "05-Jan-24 17:25:00: Time clip returns full data set.\n",
      "05-Jan-24 17:25:00: Time clip returns full data set.\n",
      "05-Jan-24 17:25:00: Time clip returns full data set.\n",
      "05-Jan-24 17:25:00: Time clip returns full data set.\n",
      "05-Jan-24 17:25:00: Time clip returns full data set.\n",
      "05-Jan-24 17:25:00: Time clip returns full data set.\n",
      "05-Jan-24 17:25:00: Time clip returns full data set.\n",
      "05-Jan-24 17:25:00: Time clip returns full data set.\n",
      "05-Jan-24 17:25:00: Time clip returns full data set.\n",
      "05-Jan-24 17:25:00: Time clip returns full data set.\n",
      "05-Jan-24 17:25:00: Time clip returns full data set.\n",
      "05-Jan-24 17:25:00: Time clip returns full data set.\n",
      "05-Jan-24 17:25:00: Time clip returns full data set.\n",
      "05-Jan-24 17:25:00: Time clip returns full data set.\n",
      "05-Jan-24 17:25:00: Time clip returns full data set.\n",
      "05-Jan-24 17:25:00: Time clip returns full data set.\n",
      "05-Jan-24 17:25:00: Time clip returns full data set.\n",
      "05-Jan-24 17:25:01: Time clip returns full data set.\n",
      "05-Jan-24 17:25:01: Time clip returns full data set.\n",
      "05-Jan-24 17:25:01: Time clip returns full data set.\n",
      "05-Jan-24 17:25:01: Time clip returns full data set.\n",
      "05-Jan-24 17:25:01: Time clip returns full data set.\n",
      "05-Jan-24 17:25:01: Time clip returns full data set.\n",
      "05-Jan-24 17:25:01: Time clip returns full data set.\n",
      "05-Jan-24 17:25:01: Time clip returns full data set.\n",
      "05-Jan-24 17:25:01: Time clip returns full data set.\n",
      "05-Jan-24 17:25:01: Time clip returns full data set.\n",
      "05-Jan-24 17:25:01: Time clip returns full data set.\n",
      "05-Jan-24 17:25:01: Time clip returns full data set.\n",
      "05-Jan-24 17:25:01: Time clip returns full data set.\n",
      "05-Jan-24 17:25:01: Time clip returns full data set.\n",
      "05-Jan-24 17:25:01: Time clip returns full data set.\n",
      "05-Jan-24 17:25:01: Time clip returns full data set.\n",
      "05-Jan-24 17:25:01: Time clip returns full data set.\n",
      "05-Jan-24 17:25:01: Time clip returns full data set.\n",
      "05-Jan-24 17:25:01: Time clip returns full data set.\n",
      "05-Jan-24 17:25:01: Time clip returns full data set.\n",
      "05-Jan-24 17:25:01: Time clip returns full data set.\n",
      "05-Jan-24 17:25:01: Time clip returns full data set.\n",
      "05-Jan-24 17:25:01: Time clip returns full data set.\n",
      "05-Jan-24 17:25:01: Time clip returns full data set.\n",
      "05-Jan-24 17:25:01: Time clip returns full data set.\n",
      "05-Jan-24 17:25:01: Time clip returns full data set.\n",
      "05-Jan-24 17:25:01: Time clip returns full data set.\n",
      "05-Jan-24 17:25:01: Time clip returns full data set.\n",
      "05-Jan-24 17:25:01: Time clip returns full data set.\n",
      "05-Jan-24 17:25:01: Time clip returns full data set.\n",
      "05-Jan-24 17:25:01: Time clip returns full data set.\n",
      "05-Jan-24 17:25:01: Time clip returns full data set.\n",
      "05-Jan-24 17:25:01: Time clip returns full data set.\n",
      "05-Jan-24 17:25:01: Time clip returns full data set.\n",
      "05-Jan-24 17:25:01: Time clip returns full data set.\n",
      "05-Jan-24 17:25:01: Time clip returns full data set.\n",
      "05-Jan-24 17:25:01: Downloading remote index: https://spdf.gsfc.nasa.gov/pub/data/psp/fields/l3/rfs_lfr/2022/\n",
      "05-Jan-24 17:25:01: File is current: psp_data/fields/l3/rfs_lfr/2022/psp_fld_l3_rfs_lfr_20220223_v03.cdf\n",
      "05-Jan-24 17:25:01: No links matching pattern psp_fld_l3_rfs_lfr_20220224_v??.cdf found at remote index https://spdf.gsfc.nasa.gov/pub/data/psp/fields/l3/rfs_lfr/2022/\n",
      "05-Jan-24 17:25:01: No links matching pattern psp_fld_l3_rfs_lfr_20220225_v??.cdf found at remote index https://spdf.gsfc.nasa.gov/pub/data/psp/fields/l3/rfs_lfr/2022/\n",
      "05-Jan-24 17:25:01: No links matching pattern psp_fld_l3_rfs_lfr_20220226_v??.cdf found at remote index https://spdf.gsfc.nasa.gov/pub/data/psp/fields/l3/rfs_lfr/2022/\n",
      "05-Jan-24 17:25:01: File is current: psp_data/fields/l3/rfs_lfr/2022/psp_fld_l3_rfs_lfr_20220227_v03.cdf\n",
      "05-Jan-24 17:25:02: File is current: psp_data/fields/l3/rfs_lfr/2022/psp_fld_l3_rfs_lfr_20220228_v03.cdf\n",
      "05-Jan-24 17:25:02: Downloading remote index: https://spdf.gsfc.nasa.gov/pub/data/psp/sweap/spi/l3/spi_sf00_l3_mom/2022/\n"
     ]
    },
    {
     "name": "stdout",
     "output_type": "stream",
     "text": [
      "Using LEVEL=L3\n"
     ]
    },
    {
     "name": "stderr",
     "output_type": "stream",
     "text": [
      "05-Jan-24 17:25:02: Downloading https://spdf.gsfc.nasa.gov/pub/data/psp/sweap/spi/l3/spi_sf00_l3_mom/2022/psp_swp_spi_sf00_l3_mom_20220223_v04.cdf to psp_data/sweap/spi/l3/spi_sf00_l3_mom/2022/psp_swp_spi_sf00_l3_mom_20220223_v04.cdf\n",
      "05-Jan-24 17:25:03: Download complete: psp_data/sweap/spi/l3/spi_sf00_l3_mom/2022/psp_swp_spi_sf00_l3_mom_20220223_v04.cdf\n",
      "05-Jan-24 17:25:04: Downloading https://spdf.gsfc.nasa.gov/pub/data/psp/sweap/spi/l3/spi_sf00_l3_mom/2022/psp_swp_spi_sf00_l3_mom_20220224_v04.cdf to psp_data/sweap/spi/l3/spi_sf00_l3_mom/2022/psp_swp_spi_sf00_l3_mom_20220224_v04.cdf\n",
      "05-Jan-24 17:25:06: Download complete: psp_data/sweap/spi/l3/spi_sf00_l3_mom/2022/psp_swp_spi_sf00_l3_mom_20220224_v04.cdf\n",
      "05-Jan-24 17:25:06: Downloading https://spdf.gsfc.nasa.gov/pub/data/psp/sweap/spi/l3/spi_sf00_l3_mom/2022/psp_swp_spi_sf00_l3_mom_20220225_v04.cdf to psp_data/sweap/spi/l3/spi_sf00_l3_mom/2022/psp_swp_spi_sf00_l3_mom_20220225_v04.cdf\n",
      "05-Jan-24 17:25:07: Download complete: psp_data/sweap/spi/l3/spi_sf00_l3_mom/2022/psp_swp_spi_sf00_l3_mom_20220225_v04.cdf\n",
      "05-Jan-24 17:25:08: Downloading https://spdf.gsfc.nasa.gov/pub/data/psp/sweap/spi/l3/spi_sf00_l3_mom/2022/psp_swp_spi_sf00_l3_mom_20220226_v04.cdf to psp_data/sweap/spi/l3/spi_sf00_l3_mom/2022/psp_swp_spi_sf00_l3_mom_20220226_v04.cdf\n",
      "05-Jan-24 17:25:09: Download complete: psp_data/sweap/spi/l3/spi_sf00_l3_mom/2022/psp_swp_spi_sf00_l3_mom_20220226_v04.cdf\n",
      "05-Jan-24 17:25:09: Downloading https://spdf.gsfc.nasa.gov/pub/data/psp/sweap/spi/l3/spi_sf00_l3_mom/2022/psp_swp_spi_sf00_l3_mom_20220227_v04.cdf to psp_data/sweap/spi/l3/spi_sf00_l3_mom/2022/psp_swp_spi_sf00_l3_mom_20220227_v04.cdf\n",
      "05-Jan-24 17:25:11: Download complete: psp_data/sweap/spi/l3/spi_sf00_l3_mom/2022/psp_swp_spi_sf00_l3_mom_20220227_v04.cdf\n",
      "05-Jan-24 17:25:11: Downloading https://spdf.gsfc.nasa.gov/pub/data/psp/sweap/spi/l3/spi_sf00_l3_mom/2022/psp_swp_spi_sf00_l3_mom_20220228_v04.cdf to psp_data/sweap/spi/l3/spi_sf00_l3_mom/2022/psp_swp_spi_sf00_l3_mom_20220228_v04.cdf\n",
      "05-Jan-24 17:25:12: Download complete: psp_data/sweap/spi/l3/spi_sf00_l3_mom/2022/psp_swp_spi_sf00_l3_mom_20220228_v04.cdf\n",
      "05-Jan-24 17:25:14: Time clip was applied to: psp_spi_QUALITY_FLAG\n",
      "05-Jan-24 17:25:14: Time clip was applied to: psp_spi_DENS\n",
      "05-Jan-24 17:25:15: Time clip was applied to: psp_spi_VEL_INST\n",
      "05-Jan-24 17:25:15: Time clip was applied to: psp_spi_VEL_SC\n",
      "05-Jan-24 17:25:15: Time clip was applied to: psp_spi_VEL_RTN_SUN\n",
      "05-Jan-24 17:25:15: Time clip was applied to: psp_spi_T_TENSOR_INST\n",
      "05-Jan-24 17:25:16: Time clip was applied to: psp_spi_TEMP\n",
      "05-Jan-24 17:25:16: Time clip was applied to: psp_spi_EFLUX_VS_ENERGY\n",
      "05-Jan-24 17:25:16: Time clip was applied to: psp_spi_EFLUX_VS_THETA\n",
      "05-Jan-24 17:25:17: Time clip was applied to: psp_spi_EFLUX_VS_PHI\n",
      "05-Jan-24 17:25:17: Time clip was applied to: psp_spi_SUN_DIST\n",
      "05-Jan-24 17:25:17: Time clip was applied to: psp_spi_VENUS_DIST\n",
      "05-Jan-24 17:25:17: Time clip was applied to: psp_spi_SC_VEL_RTN_SUN\n",
      "05-Jan-24 17:25:18: Time clip was applied to: psp_spi_QUAT_SC_TO_RTN\n",
      "05-Jan-24 17:25:18: Time clip was applied to: psp_spi_MAGF_SC\n",
      "05-Jan-24 17:25:18: Time clip was applied to: psp_spi_MAGF_INST\n",
      "05-Jan-24 17:25:18: Downloading remote index: https://spdf.gsfc.nasa.gov/pub/data/psp/sweap/spi/l3/spi_sf0a_l3_mom/2022/\n"
     ]
    },
    {
     "name": "stdout",
     "output_type": "stream",
     "text": [
      "Using LEVEL=L3\n"
     ]
    },
    {
     "name": "stderr",
     "output_type": "stream",
     "text": [
      "05-Jan-24 17:25:19: Downloading https://spdf.gsfc.nasa.gov/pub/data/psp/sweap/spi/l3/spi_sf0a_l3_mom/2022/psp_swp_spi_sf0a_l3_mom_20220223_v04.cdf to psp_data/sweap/spi/l3/spi_sf0a_l3_mom/2022/psp_swp_spi_sf0a_l3_mom_20220223_v04.cdf\n",
      "05-Jan-24 17:25:20: Download complete: psp_data/sweap/spi/l3/spi_sf0a_l3_mom/2022/psp_swp_spi_sf0a_l3_mom_20220223_v04.cdf\n",
      "05-Jan-24 17:25:20: Downloading https://spdf.gsfc.nasa.gov/pub/data/psp/sweap/spi/l3/spi_sf0a_l3_mom/2022/psp_swp_spi_sf0a_l3_mom_20220224_v04.cdf to psp_data/sweap/spi/l3/spi_sf0a_l3_mom/2022/psp_swp_spi_sf0a_l3_mom_20220224_v04.cdf\n",
      "05-Jan-24 17:25:22: Download complete: psp_data/sweap/spi/l3/spi_sf0a_l3_mom/2022/psp_swp_spi_sf0a_l3_mom_20220224_v04.cdf\n",
      "05-Jan-24 17:25:22: Downloading https://spdf.gsfc.nasa.gov/pub/data/psp/sweap/spi/l3/spi_sf0a_l3_mom/2022/psp_swp_spi_sf0a_l3_mom_20220225_v04.cdf to psp_data/sweap/spi/l3/spi_sf0a_l3_mom/2022/psp_swp_spi_sf0a_l3_mom_20220225_v04.cdf\n",
      "05-Jan-24 17:25:25: Download complete: psp_data/sweap/spi/l3/spi_sf0a_l3_mom/2022/psp_swp_spi_sf0a_l3_mom_20220225_v04.cdf\n",
      "05-Jan-24 17:25:25: Downloading https://spdf.gsfc.nasa.gov/pub/data/psp/sweap/spi/l3/spi_sf0a_l3_mom/2022/psp_swp_spi_sf0a_l3_mom_20220226_v04.cdf to psp_data/sweap/spi/l3/spi_sf0a_l3_mom/2022/psp_swp_spi_sf0a_l3_mom_20220226_v04.cdf\n",
      "05-Jan-24 17:25:27: Download complete: psp_data/sweap/spi/l3/spi_sf0a_l3_mom/2022/psp_swp_spi_sf0a_l3_mom_20220226_v04.cdf\n",
      "05-Jan-24 17:25:28: Downloading https://spdf.gsfc.nasa.gov/pub/data/psp/sweap/spi/l3/spi_sf0a_l3_mom/2022/psp_swp_spi_sf0a_l3_mom_20220227_v04.cdf to psp_data/sweap/spi/l3/spi_sf0a_l3_mom/2022/psp_swp_spi_sf0a_l3_mom_20220227_v04.cdf\n",
      "05-Jan-24 17:25:29: Download complete: psp_data/sweap/spi/l3/spi_sf0a_l3_mom/2022/psp_swp_spi_sf0a_l3_mom_20220227_v04.cdf\n",
      "05-Jan-24 17:25:29: Downloading https://spdf.gsfc.nasa.gov/pub/data/psp/sweap/spi/l3/spi_sf0a_l3_mom/2022/psp_swp_spi_sf0a_l3_mom_20220228_v04.cdf to psp_data/sweap/spi/l3/spi_sf0a_l3_mom/2022/psp_swp_spi_sf0a_l3_mom_20220228_v04.cdf\n",
      "05-Jan-24 17:25:30: Download complete: psp_data/sweap/spi/l3/spi_sf0a_l3_mom/2022/psp_swp_spi_sf0a_l3_mom_20220228_v04.cdf\n",
      "05-Jan-24 17:25:32: Time clip was applied to: psp_spi_QUALITY_FLAG\n",
      "05-Jan-24 17:25:32: Time clip was applied to: psp_spi_DENS\n",
      "05-Jan-24 17:25:32: Time clip was applied to: psp_spi_VEL_INST\n",
      "05-Jan-24 17:25:33: Time clip was applied to: psp_spi_VEL_SC\n",
      "05-Jan-24 17:25:33: Time clip was applied to: psp_spi_VEL_RTN_SUN\n",
      "05-Jan-24 17:25:33: Time clip was applied to: psp_spi_T_TENSOR_INST\n",
      "05-Jan-24 17:25:34: Time clip was applied to: psp_spi_TEMP\n",
      "05-Jan-24 17:25:34: Time clip was applied to: psp_spi_EFLUX_VS_ENERGY\n",
      "05-Jan-24 17:25:34: Time clip was applied to: psp_spi_EFLUX_VS_THETA\n",
      "05-Jan-24 17:25:34: Time clip was applied to: psp_spi_EFLUX_VS_PHI\n",
      "05-Jan-24 17:25:35: Time clip was applied to: psp_spi_SUN_DIST\n",
      "05-Jan-24 17:25:35: Time clip was applied to: psp_spi_VENUS_DIST\n",
      "05-Jan-24 17:25:35: Time clip was applied to: psp_spi_SC_VEL_RTN_SUN\n",
      "05-Jan-24 17:25:36: Time clip was applied to: psp_spi_QUAT_SC_TO_RTN\n",
      "05-Jan-24 17:25:36: Time clip was applied to: psp_spi_MAGF_SC\n",
      "05-Jan-24 17:25:36: Time clip was applied to: psp_spi_MAGF_INST\n",
      "05-Jan-24 17:25:36: Downloading remote index: https://spdf.gsfc.nasa.gov/pub/data/psp/sweap/spe/l2/spa_sf1_32e/2022/\n",
      "05-Jan-24 17:25:37: Downloading https://spdf.gsfc.nasa.gov/pub/data/psp/sweap/spe/l2/spa_sf1_32e/2022/psp_swp_spa_sf1_l2_32e_20220223_v04.cdf to psp_data/sweap/spe/l2/spa_sf1_32e/2022/psp_swp_spa_sf1_l2_32e_20220223_v04.cdf\n",
      "05-Jan-24 17:25:38: Download complete: psp_data/sweap/spe/l2/spa_sf1_32e/2022/psp_swp_spa_sf1_l2_32e_20220223_v04.cdf\n",
      "05-Jan-24 17:25:38: Downloading https://spdf.gsfc.nasa.gov/pub/data/psp/sweap/spe/l2/spa_sf1_32e/2022/psp_swp_spa_sf1_l2_32e_20220224_v04.cdf to psp_data/sweap/spe/l2/spa_sf1_32e/2022/psp_swp_spa_sf1_l2_32e_20220224_v04.cdf\n",
      "05-Jan-24 17:25:40: Download complete: psp_data/sweap/spe/l2/spa_sf1_32e/2022/psp_swp_spa_sf1_l2_32e_20220224_v04.cdf\n",
      "05-Jan-24 17:25:40: Downloading https://spdf.gsfc.nasa.gov/pub/data/psp/sweap/spe/l2/spa_sf1_32e/2022/psp_swp_spa_sf1_l2_32e_20220225_v04.cdf to psp_data/sweap/spe/l2/spa_sf1_32e/2022/psp_swp_spa_sf1_l2_32e_20220225_v04.cdf\n",
      "05-Jan-24 17:25:42: Download complete: psp_data/sweap/spe/l2/spa_sf1_32e/2022/psp_swp_spa_sf1_l2_32e_20220225_v04.cdf\n",
      "05-Jan-24 17:25:42: Downloading https://spdf.gsfc.nasa.gov/pub/data/psp/sweap/spe/l2/spa_sf1_32e/2022/psp_swp_spa_sf1_l2_32e_20220226_v04.cdf to psp_data/sweap/spe/l2/spa_sf1_32e/2022/psp_swp_spa_sf1_l2_32e_20220226_v04.cdf\n",
      "05-Jan-24 17:25:43: Download complete: psp_data/sweap/spe/l2/spa_sf1_32e/2022/psp_swp_spa_sf1_l2_32e_20220226_v04.cdf\n",
      "05-Jan-24 17:25:44: Downloading https://spdf.gsfc.nasa.gov/pub/data/psp/sweap/spe/l2/spa_sf1_32e/2022/psp_swp_spa_sf1_l2_32e_20220227_v04.cdf to psp_data/sweap/spe/l2/spa_sf1_32e/2022/psp_swp_spa_sf1_l2_32e_20220227_v04.cdf\n",
      "05-Jan-24 17:25:45: Download complete: psp_data/sweap/spe/l2/spa_sf1_32e/2022/psp_swp_spa_sf1_l2_32e_20220227_v04.cdf\n",
      "05-Jan-24 17:25:46: Downloading https://spdf.gsfc.nasa.gov/pub/data/psp/sweap/spe/l2/spa_sf1_32e/2022/psp_swp_spa_sf1_l2_32e_20220228_v04.cdf to psp_data/sweap/spe/l2/spa_sf1_32e/2022/psp_swp_spa_sf1_l2_32e_20220228_v04.cdf\n",
      "05-Jan-24 17:25:47: Download complete: psp_data/sweap/spe/l2/spa_sf1_32e/2022/psp_swp_spa_sf1_l2_32e_20220228_v04.cdf\n",
      "05-Jan-24 17:25:48: Time clip was applied to: psp_spe_QUALITY_FLAG\n",
      "05-Jan-24 17:25:49: Time clip was applied to: psp_spe_EFLUX\n"
     ]
    }
   ],
   "source": [
    "# FIELDS\n",
    "fields_vars = pyspedas.psp.fields(trange=time_range, time_clip=True, datatype='mag_RTN_4_Sa_per_Cyc')\n",
    "\n",
    "# RFS\n",
    "rfs_vars = pyspedas.psp.fields(trange=time_range, time_clip=True, level='l3', datatype='rfs_lfr')\n",
    "\n",
    "# SPAN-Ion - Proton Moments\n",
    "pvars = pyspedas.psp.spi(trange=time_range, datatype='sf00_l3_mom', \n",
    "                            level='l3', time_clip=True)\n",
    "\n",
    "# SPAN-Ion - Alpha Particle Moments\n",
    "avars = pyspedas.psp.spi(trange=time_range, datatype='sf0a_l3_mom', \n",
    "                            level='l3', time_clip=True)\n",
    "\n",
    "# SPAN-Electron - Electron Moments\n",
    "spe_vars = pyspedas.psp.spe(trange=time_range, level='l2', time_clip=True)"
   ]
  },
  {
   "attachments": {},
   "cell_type": "markdown",
   "metadata": {},
   "source": [
    "# PARKER"
   ]
  },
  {
   "cell_type": "code",
   "execution_count": 9,
   "metadata": {},
   "outputs": [
    {
     "name": "stdout",
     "output_type": "stream",
     "text": [
      "Folder '/Users/tamarervin/publications/e11_ch/results' created.\n"
     ]
    }
   ],
   "source": [
    "# check if folder exists\n",
    "if not os.path.exists(RES_DIR):\n",
    "    os.makedirs(RES_DIR)\n",
    "    print(f\"Folder '{RES_DIR}' created.\")\n",
    "else:\n",
    "    print(f\"Folder '{RES_DIR}' already exists.\")"
   ]
  },
  {
   "attachments": {},
   "cell_type": "markdown",
   "metadata": {},
   "source": [
    "### FIELDS"
   ]
  },
  {
   "cell_type": "code",
   "execution_count": 10,
   "metadata": {},
   "outputs": [
    {
     "ename": "OSError",
     "evalue": "[Errno 28] No space left on device",
     "output_type": "error",
     "traceback": [
      "\u001b[0;31m---------------------------------------------------------------------------\u001b[0m",
      "\u001b[0;31mOSError\u001b[0m                                   Traceback (most recent call last)",
      "Cell \u001b[0;32mIn[10], line 8\u001b[0m\n\u001b[1;32m      6\u001b[0m rd \u001b[39m=\u001b[39m {\u001b[39m'\u001b[39m\u001b[39mTime\u001b[39m\u001b[39m'\u001b[39m: date_obj, \u001b[39m'\u001b[39m\u001b[39mBr\u001b[39m\u001b[39m'\u001b[39m: dt\u001b[39m.\u001b[39my[:, \u001b[39m0\u001b[39m], \u001b[39m'\u001b[39m\u001b[39mBt\u001b[39m\u001b[39m'\u001b[39m: dt\u001b[39m.\u001b[39my[:, \u001b[39m1\u001b[39m], \u001b[39m'\u001b[39m\u001b[39mBn\u001b[39m\u001b[39m'\u001b[39m: dt\u001b[39m.\u001b[39my[:, \u001b[39m2\u001b[39m]}\n\u001b[1;32m      7\u001b[0m fields \u001b[39m=\u001b[39m pd\u001b[39m.\u001b[39mDataFrame(data\u001b[39m=\u001b[39mrd)\n\u001b[0;32m----> 8\u001b[0m fields\u001b[39m.\u001b[39mto_csv(os\u001b[39m.\u001b[39mpath\u001b[39m.\u001b[39mjoin(RES_DIR, \u001b[39m'\u001b[39m\u001b[39mfields.csv\u001b[39m\u001b[39m'\u001b[39m))\n",
      "File \u001b[0;32m~/miniconda3/envs/analysis/lib/python3.11/site-packages/pandas/util/_decorators.py:211\u001b[0m, in \u001b[0;36mdeprecate_kwarg.<locals>._deprecate_kwarg.<locals>.wrapper\u001b[0;34m(*args, **kwargs)\u001b[0m\n\u001b[1;32m    209\u001b[0m     \u001b[39melse\u001b[39;00m:\n\u001b[1;32m    210\u001b[0m         kwargs[new_arg_name] \u001b[39m=\u001b[39m new_arg_value\n\u001b[0;32m--> 211\u001b[0m \u001b[39mreturn\u001b[39;00m func(\u001b[39m*\u001b[39margs, \u001b[39m*\u001b[39m\u001b[39m*\u001b[39mkwargs)\n",
      "File \u001b[0;32m~/miniconda3/envs/analysis/lib/python3.11/site-packages/pandas/core/generic.py:3720\u001b[0m, in \u001b[0;36mNDFrame.to_csv\u001b[0;34m(self, path_or_buf, sep, na_rep, float_format, columns, header, index, index_label, mode, encoding, compression, quoting, quotechar, lineterminator, chunksize, date_format, doublequote, escapechar, decimal, errors, storage_options)\u001b[0m\n\u001b[1;32m   3709\u001b[0m df \u001b[39m=\u001b[39m \u001b[39mself\u001b[39m \u001b[39mif\u001b[39;00m \u001b[39misinstance\u001b[39m(\u001b[39mself\u001b[39m, ABCDataFrame) \u001b[39melse\u001b[39;00m \u001b[39mself\u001b[39m\u001b[39m.\u001b[39mto_frame()\n\u001b[1;32m   3711\u001b[0m formatter \u001b[39m=\u001b[39m DataFrameFormatter(\n\u001b[1;32m   3712\u001b[0m     frame\u001b[39m=\u001b[39mdf,\n\u001b[1;32m   3713\u001b[0m     header\u001b[39m=\u001b[39mheader,\n\u001b[0;32m   (...)\u001b[0m\n\u001b[1;32m   3717\u001b[0m     decimal\u001b[39m=\u001b[39mdecimal,\n\u001b[1;32m   3718\u001b[0m )\n\u001b[0;32m-> 3720\u001b[0m \u001b[39mreturn\u001b[39;00m DataFrameRenderer(formatter)\u001b[39m.\u001b[39mto_csv(\n\u001b[1;32m   3721\u001b[0m     path_or_buf,\n\u001b[1;32m   3722\u001b[0m     lineterminator\u001b[39m=\u001b[39mlineterminator,\n\u001b[1;32m   3723\u001b[0m     sep\u001b[39m=\u001b[39msep,\n\u001b[1;32m   3724\u001b[0m     encoding\u001b[39m=\u001b[39mencoding,\n\u001b[1;32m   3725\u001b[0m     errors\u001b[39m=\u001b[39merrors,\n\u001b[1;32m   3726\u001b[0m     compression\u001b[39m=\u001b[39mcompression,\n\u001b[1;32m   3727\u001b[0m     quoting\u001b[39m=\u001b[39mquoting,\n\u001b[1;32m   3728\u001b[0m     columns\u001b[39m=\u001b[39mcolumns,\n\u001b[1;32m   3729\u001b[0m     index_label\u001b[39m=\u001b[39mindex_label,\n\u001b[1;32m   3730\u001b[0m     mode\u001b[39m=\u001b[39mmode,\n\u001b[1;32m   3731\u001b[0m     chunksize\u001b[39m=\u001b[39mchunksize,\n\u001b[1;32m   3732\u001b[0m     quotechar\u001b[39m=\u001b[39mquotechar,\n\u001b[1;32m   3733\u001b[0m     date_format\u001b[39m=\u001b[39mdate_format,\n\u001b[1;32m   3734\u001b[0m     doublequote\u001b[39m=\u001b[39mdoublequote,\n\u001b[1;32m   3735\u001b[0m     escapechar\u001b[39m=\u001b[39mescapechar,\n\u001b[1;32m   3736\u001b[0m     storage_options\u001b[39m=\u001b[39mstorage_options,\n\u001b[1;32m   3737\u001b[0m )\n",
      "File \u001b[0;32m~/miniconda3/envs/analysis/lib/python3.11/site-packages/pandas/util/_decorators.py:211\u001b[0m, in \u001b[0;36mdeprecate_kwarg.<locals>._deprecate_kwarg.<locals>.wrapper\u001b[0;34m(*args, **kwargs)\u001b[0m\n\u001b[1;32m    209\u001b[0m     \u001b[39melse\u001b[39;00m:\n\u001b[1;32m    210\u001b[0m         kwargs[new_arg_name] \u001b[39m=\u001b[39m new_arg_value\n\u001b[0;32m--> 211\u001b[0m \u001b[39mreturn\u001b[39;00m func(\u001b[39m*\u001b[39margs, \u001b[39m*\u001b[39m\u001b[39m*\u001b[39mkwargs)\n",
      "File \u001b[0;32m~/miniconda3/envs/analysis/lib/python3.11/site-packages/pandas/io/formats/format.py:1189\u001b[0m, in \u001b[0;36mDataFrameRenderer.to_csv\u001b[0;34m(self, path_or_buf, encoding, sep, columns, index_label, mode, compression, quoting, quotechar, lineterminator, chunksize, date_format, doublequote, escapechar, errors, storage_options)\u001b[0m\n\u001b[1;32m   1168\u001b[0m     created_buffer \u001b[39m=\u001b[39m \u001b[39mFalse\u001b[39;00m\n\u001b[1;32m   1170\u001b[0m csv_formatter \u001b[39m=\u001b[39m CSVFormatter(\n\u001b[1;32m   1171\u001b[0m     path_or_buf\u001b[39m=\u001b[39mpath_or_buf,\n\u001b[1;32m   1172\u001b[0m     lineterminator\u001b[39m=\u001b[39mlineterminator,\n\u001b[0;32m   (...)\u001b[0m\n\u001b[1;32m   1187\u001b[0m     formatter\u001b[39m=\u001b[39m\u001b[39mself\u001b[39m\u001b[39m.\u001b[39mfmt,\n\u001b[1;32m   1188\u001b[0m )\n\u001b[0;32m-> 1189\u001b[0m csv_formatter\u001b[39m.\u001b[39msave()\n\u001b[1;32m   1191\u001b[0m \u001b[39mif\u001b[39;00m created_buffer:\n\u001b[1;32m   1192\u001b[0m     \u001b[39massert\u001b[39;00m \u001b[39misinstance\u001b[39m(path_or_buf, StringIO)\n",
      "File \u001b[0;32m~/miniconda3/envs/analysis/lib/python3.11/site-packages/pandas/io/formats/csvs.py:261\u001b[0m, in \u001b[0;36mCSVFormatter.save\u001b[0;34m(self)\u001b[0m\n\u001b[1;32m    241\u001b[0m \u001b[39mwith\u001b[39;00m get_handle(\n\u001b[1;32m    242\u001b[0m     \u001b[39mself\u001b[39m\u001b[39m.\u001b[39mfilepath_or_buffer,\n\u001b[1;32m    243\u001b[0m     \u001b[39mself\u001b[39m\u001b[39m.\u001b[39mmode,\n\u001b[0;32m   (...)\u001b[0m\n\u001b[1;32m    249\u001b[0m \n\u001b[1;32m    250\u001b[0m     \u001b[39m# Note: self.encoding is irrelevant here\u001b[39;00m\n\u001b[1;32m    251\u001b[0m     \u001b[39mself\u001b[39m\u001b[39m.\u001b[39mwriter \u001b[39m=\u001b[39m csvlib\u001b[39m.\u001b[39mwriter(\n\u001b[1;32m    252\u001b[0m         handles\u001b[39m.\u001b[39mhandle,\n\u001b[1;32m    253\u001b[0m         lineterminator\u001b[39m=\u001b[39m\u001b[39mself\u001b[39m\u001b[39m.\u001b[39mlineterminator,\n\u001b[0;32m   (...)\u001b[0m\n\u001b[1;32m    258\u001b[0m         quotechar\u001b[39m=\u001b[39m\u001b[39mself\u001b[39m\u001b[39m.\u001b[39mquotechar,\n\u001b[1;32m    259\u001b[0m     )\n\u001b[0;32m--> 261\u001b[0m     \u001b[39mself\u001b[39m\u001b[39m.\u001b[39m_save()\n",
      "File \u001b[0;32m~/miniconda3/envs/analysis/lib/python3.11/site-packages/pandas/io/formats/csvs.py:266\u001b[0m, in \u001b[0;36mCSVFormatter._save\u001b[0;34m(self)\u001b[0m\n\u001b[1;32m    264\u001b[0m \u001b[39mif\u001b[39;00m \u001b[39mself\u001b[39m\u001b[39m.\u001b[39m_need_to_save_header:\n\u001b[1;32m    265\u001b[0m     \u001b[39mself\u001b[39m\u001b[39m.\u001b[39m_save_header()\n\u001b[0;32m--> 266\u001b[0m \u001b[39mself\u001b[39m\u001b[39m.\u001b[39m_save_body()\n",
      "File \u001b[0;32m~/miniconda3/envs/analysis/lib/python3.11/site-packages/pandas/io/formats/csvs.py:304\u001b[0m, in \u001b[0;36mCSVFormatter._save_body\u001b[0;34m(self)\u001b[0m\n\u001b[1;32m    302\u001b[0m \u001b[39mif\u001b[39;00m start_i \u001b[39m>\u001b[39m\u001b[39m=\u001b[39m end_i:\n\u001b[1;32m    303\u001b[0m     \u001b[39mbreak\u001b[39;00m\n\u001b[0;32m--> 304\u001b[0m \u001b[39mself\u001b[39m\u001b[39m.\u001b[39m_save_chunk(start_i, end_i)\n",
      "File \u001b[0;32m~/miniconda3/envs/analysis/lib/python3.11/site-packages/pandas/io/formats/csvs.py:315\u001b[0m, in \u001b[0;36mCSVFormatter._save_chunk\u001b[0;34m(self, start_i, end_i)\u001b[0m\n\u001b[1;32m    312\u001b[0m data \u001b[39m=\u001b[39m [res\u001b[39m.\u001b[39miget_values(i) \u001b[39mfor\u001b[39;00m i \u001b[39min\u001b[39;00m \u001b[39mrange\u001b[39m(\u001b[39mlen\u001b[39m(res\u001b[39m.\u001b[39mitems))]\n\u001b[1;32m    314\u001b[0m ix \u001b[39m=\u001b[39m \u001b[39mself\u001b[39m\u001b[39m.\u001b[39mdata_index[slicer]\u001b[39m.\u001b[39m_format_native_types(\u001b[39m*\u001b[39m\u001b[39m*\u001b[39m\u001b[39mself\u001b[39m\u001b[39m.\u001b[39m_number_format)\n\u001b[0;32m--> 315\u001b[0m libwriters\u001b[39m.\u001b[39mwrite_csv_rows(\n\u001b[1;32m    316\u001b[0m     data,\n\u001b[1;32m    317\u001b[0m     ix,\n\u001b[1;32m    318\u001b[0m     \u001b[39mself\u001b[39m\u001b[39m.\u001b[39mnlevels,\n\u001b[1;32m    319\u001b[0m     \u001b[39mself\u001b[39m\u001b[39m.\u001b[39mcols,\n\u001b[1;32m    320\u001b[0m     \u001b[39mself\u001b[39m\u001b[39m.\u001b[39mwriter,\n\u001b[1;32m    321\u001b[0m )\n",
      "File \u001b[0;32m~/miniconda3/envs/analysis/lib/python3.11/site-packages/pandas/_libs/writers.pyx:55\u001b[0m, in \u001b[0;36mpandas._libs.writers.write_csv_rows\u001b[0;34m()\u001b[0m\n",
      "\u001b[0;31mOSError\u001b[0m: [Errno 28] No space left on device"
     ]
    }
   ],
   "source": [
    "files = glob.glob(os.path.join(os.path.realpath(os.path.join('psp_data', 'fields/l2/mag_rtn_4_per_cycle/2023')), \"*\"), recursive=True)\n",
    "vars = cdf_to_tplot(files)\n",
    "dt = get_data('psp_fld_l2_mag_RTN_4_Sa_per_Cyc')\n",
    "date_obj = [datetime.datetime.strptime(time_string(d), '%Y-%m-%d %H:%M:%S.%f') for d in dt.times]\n",
    "\n",
    "rd = {'Time': date_obj, 'Br': dt.y[:, 0], 'Bt': dt.y[:, 1], 'Bn': dt.y[:, 2]}\n",
    "fields = pd.DataFrame(data=rd)\n",
    "fields.to_csv(os.path.join(RES_DIR, 'fields.csv'))"
   ]
  },
  {
   "cell_type": "code",
   "execution_count": null,
   "metadata": {},
   "outputs": [],
   "source": [
    "tplot(['psp_fld_l2_mag_RTN_4_Sa_per_Cyc'])"
   ]
  },
  {
   "attachments": {},
   "cell_type": "markdown",
   "metadata": {},
   "source": [
    "### PROTONS"
   ]
  },
  {
   "cell_type": "code",
   "execution_count": null,
   "metadata": {},
   "outputs": [],
   "source": [
    "path = glob.glob(os.path.join(os.path.realpath(os.path.join('psp_data', 'sweap/spi/l3/spi_sf00_l3_mom')), \"*\"), recursive=True)\n",
    "files = glob.glob(os.path.join(path[0], '*'))\n",
    "\n",
    "vars = cdf_to_tplot(files)\n",
    "dt = get_data('VEL_RTN_SUN')\n",
    "dt2 = get_data('DENS')\n",
    "dt3 = get_data('TEMP')\n",
    "date_obj = [datetime.datetime.strptime(time_string(d), '%Y-%m-%d %H:%M:%S.%f') for d in dt.times]\n",
    "\n",
    "rd = {'Time': date_obj, 'vr': np.abs(dt.y[:, 0]), 'vt': dt.y[:, 1], 'vn': dt.y[:, 2], 'Np': dt2.y, 'Tp': dt3.y}\n",
    "protons = pd.DataFrame(data=rd)\n",
    "\n",
    "### ADD ANGLE\n",
    "vx, vy, vz = [get_data('VEL_SC').y[:, i] for i in np.arange(0, 3)]\n",
    "mx, my, mz = [get_data('MAGF_INST').y[:, i] for i in np.arange(0, 3)]\n",
    "vdotb = vx*mx + vy*my + vz*mz\n",
    "v = np.sqrt(vx**2 + vy**2 + vz**2)\n",
    "b = np.sqrt(mx**2 + my**2 + mz**2)\n",
    "angle_vb = np.arccos(vdotb/(v*b))\n",
    "\n",
    "protons['angle_vb'] = angle_vb\n",
    "\n",
    "protons.to_csv(os.path.join(RES_DIR, 'protons.csv'))"
   ]
  },
  {
   "cell_type": "code",
   "execution_count": null,
   "metadata": {},
   "outputs": [],
   "source": [
    "tplot(['VEL_INST',\n",
    " 'VEL_SC',\n",
    " 'VEL_RTN_SUN',\n",
    " 'SC_VEL_RTN_SUN'])\n",
    "vars\n"
   ]
  },
  {
   "cell_type": "code",
   "execution_count": null,
   "metadata": {},
   "outputs": [],
   "source": [
    "tplot(['DENS', 'VEL_RTN_SUN', 'TEMP', 'EFLUX_VS_THETA', 'EFLUX_VS_PHI'])"
   ]
  },
  {
   "attachments": {},
   "cell_type": "markdown",
   "metadata": {},
   "source": [
    "### ALPHAS"
   ]
  },
  {
   "cell_type": "code",
   "execution_count": null,
   "metadata": {},
   "outputs": [],
   "source": [
    "path = glob.glob(os.path.join(os.path.realpath(os.path.join('psp_data', 'sweap/spi/l3/spi_sf0a_l3_mom')), \"*\"), recursive=True)\n",
    "files = glob.glob(os.path.join(path[0], '*'))\n",
    "\n",
    "vars = cdf_to_tplot(files)\n",
    "dt = get_data('VEL_RTN_SUN')\n",
    "dt2 = get_data('DENS')\n",
    "dt3 = get_data('TEMP')\n",
    "date_obj = [datetime.datetime.strptime(time_string(d), '%Y-%m-%d %H:%M:%S.%f') for d in dt.times]\n",
    "\n",
    "rd = {'Time': date_obj, 'vra': dt.y[:, 0], 'vta': dt.y[:, 1], 'vna': dt.y[:, 2], 'Na': dt2.y, 'Ta': dt3.y}\n",
    "alphas = pd.DataFrame(data=rd)\n",
    "alphas.to_csv(os.path.join(RES_DIR, 'alphas.csv'))"
   ]
  },
  {
   "cell_type": "code",
   "execution_count": null,
   "metadata": {},
   "outputs": [],
   "source": [
    "tplot(['DENS', 'VEL_RTN_SUN', 'TEMP', 'EFLUX_VS_THETA', 'EFLUX_VS_PHI'])"
   ]
  },
  {
   "attachments": {},
   "cell_type": "markdown",
   "metadata": {},
   "source": [
    "### ELECTRONS"
   ]
  },
  {
   "cell_type": "code",
   "execution_count": null,
   "metadata": {},
   "outputs": [],
   "source": [
    "dt = pd.read_csv(os.path.realpath(edens))\n",
    "date_obj = [datetime.datetime.strptime(d, '%Y-%m-%d/%H:%M:%S') for d in dt.Time]\n",
    "\n",
    "rd = {'Time': date_obj, 'Ne': dt.N_QTN}\n",
    "dfe = pd.DataFrame(data=rd, index=None)\n",
    "# dfe = dfe.set_index(dfe.Time)\n",
    "dfe.to_csv(os.path.join(RES_DIR, 'electrons.csv'))"
   ]
  },
  {
   "attachments": {},
   "cell_type": "markdown",
   "metadata": {},
   "source": [
    "### COMBINE DATASETS"
   ]
  },
  {
   "cell_type": "code",
   "execution_count": null,
   "metadata": {},
   "outputs": [],
   "source": [
    "RESULTS = '/Users/tamarervin/e11_ch_results/'\n",
    "RESULTS = os.path.realpath('e11_ch_results')"
   ]
  },
  {
   "cell_type": "code",
   "execution_count": null,
   "metadata": {},
   "outputs": [],
   "source": [
    "df = pd.read_csv(os.path.join(RESULTS, 'protons.csv'), index_col=None)\n",
    "dfe = pd.read_csv(os.path.join(RESULTS, 'electrons.csv'), index_col=None)\n",
    "# dfet = pd.read_csv(os.path.join(RESULTS, 'electron_temp.csv'), index_col=None)\n",
    "dfalp = pd.read_csv(os.path.join(RESULTS, 'alphas.csv'), index_col=None)\n",
    "dfmag = pd.read_csv(os.path.join(RESULTS, 'fields.csv'), index_col=None)\n",
    "# df, dfe, dfet, dfalp = [dd.drop(['Unnamed: 0'], axis=1) for dd in [df, dfe, dfet, dfalp]]\n",
    "dfmag = dfmag.drop(['Time.1'], axis=1)\n",
    "df['Time'] = [datetime.datetime.strptime(d, '%Y-%m-%d %H:%M:%S.%f') for d in df.Time]\n",
    "dfe['Time'] = [datetime.datetime.strptime(d, '%Y-%m-%d %H:%M:%S') for d in dfe.Time]\n",
    "dfet['Time'] = [datetime.datetime.strptime(d, '%Y-%m-%d %H:%M:%S') for d in dfet.Time]\n",
    "dfalp['Time'] = [datetime.datetime.strptime(d, '%Y-%m-%d %H:%M:%S.%f') for d in dfalp.Time]\n",
    "dfmag['Time'] = [datetime.datetime.strptime(d, '%Y-%m-%d %H:%M:%S.%f') for d in dfmag.Time]\n"
   ]
  },
  {
   "cell_type": "code",
   "execution_count": null,
   "metadata": {},
   "outputs": [],
   "source": [
    "ff = pd.merge_asof(df, dfalp, on='Time', direction='backward')\n",
    "ff = pd.merge_asof(ff, dfe, on='Time', direction='backward')\n",
    "ff = pd.merge_asof(ff, dfet, on='Time', direction='backward')\n",
    "ff = pd.merge_asof(ff, dfmag, on='Time', direction='backward')\n",
    "ff = ff.set_index('Time')\n",
    "ff = ff[np.logical_and(ff.Tp > 0, ff.Ta > 0)].copy()\n",
    "ff"
   ]
  },
  {
   "cell_type": "code",
   "execution_count": null,
   "metadata": {},
   "outputs": [],
   "source": [
    "# Calculate time differences between consecutive datetime values\n",
    "from datetime import timedelta\n",
    "datetime_list = ff.index.to_list()\n",
    "time_diff_list = [datetime_list[i + 1] - datetime_list[i] for i in range(len(datetime_list) - 1)]\n",
    "\n",
    "# Calculate the average time difference\n",
    "average_time_difference = sum(time_diff_list, timedelta()) / len(time_diff_list)\n",
    "print(average_time_difference)\n",
    "\n",
    "# Specify the total time period (e.g., 10 minutes)\n",
    "total_time_period = timedelta(minutes=20)\n",
    "\n",
    "# Calculate the number of points\n",
    "number_of_points = total_time_period / average_time_difference\n",
    "\n",
    "print(f\"Number of Points in {total_time_period}: {int(number_of_points)}\")\n"
   ]
  },
  {
   "cell_type": "code",
   "execution_count": null,
   "metadata": {},
   "outputs": [],
   "source": [
    "### ----- CALCULATIONS ----- ###\n",
    "### Vap\n",
    "ff['B'] = np.sqrt(ff.Br**2 + ff.Bt**2 + ff.Bn**2)\n",
    "cost = np.abs(ff.Br/ff.B)\n",
    "ff['vap'] = (ff.vra - ff.vr)/cost\n",
    "\n",
    "### Ahe\n",
    "ff['Ahe'] = ff.Na/ff.Np\n",
    "\n",
    "### TUBULENCE\n",
    "ff['use_dens'] = ff.Np\n",
    "ff['sigmac'],ff['sigmar'], ff['vA'], ff['Zp'],ff['Zm'], ff['deltav'], ff['deltab'] = sigma.calc_sigma(ff, num=314)\n",
    "ff = ff.drop(['use_dens'], axis=1)\n",
    "ff['diff'] = np.abs(ff.vap)/ff.vA\n",
    "\n",
    "### MACH NUMBER\n",
    "ff['MA'] = ff.vr / ff.vA\n",
    "sound_speed = ion_sound_speed(\n",
    "    T_e=np.array(ff.Te)*u.eV/k_B,\n",
    "    T_i=np.array(ff.Tp)*u.eV/k_B,\n",
    "    # n_e=np.array(ff.Ne)/(u.cm**3),\n",
    "    # k=k_2,\n",
    "    ion='p',\n",
    "    gamma_e=1,\n",
    "    gamma_i=3,\n",
    ").to(u.km/u.s).value\n",
    "ff['MS'] = ff.vr / sound_speed\n",
    "ff['MMS'] = ff.vr / np.sqrt(sound_speed**2 + ff.vA**2)\n",
    "\n",
    "### BETA\n",
    "ff['beta'] = beta(np.array(ff.Tp)*u.eV, np.array(ff.Np)/(u.cm*u.cm*u.cm), np.array(ff.B)*u.nT).value\n",
    "ff['betae'] = beta(np.array(ff.Te)*u.eV, np.array(ff.Ne)/(u.cm*u.cm*u.cm), np.array(ff.B)*u.nT).value\n",
    "\n",
    "# ### MAGNETIC PRESSURE\n",
    "ff['Pm'] = magnetic_pressure(np.array(ff.B)*u.nT).value\n",
    "\n",
    "### PROTON PRESSURE\n",
    "ff['Pp'] = thermal_pressure(np.array(ff.Tp)*u.eV, np.array(ff.Np)/u.cm**3).value\n",
    "\n",
    "### ALPHA PRESSURE\n",
    "ff['Pa'] = thermal_pressure(np.array(ff.Ta)*u.eV, np.array(ff.Na)/u.cm**3).value\n",
    "\n",
    "### ELECTRON PRESSURE\n",
    "ff['Pe'] = thermal_pressure(np.array(ff.Te)*u.eV, np.array(ff.Ne)/u.cm**3).value\n",
    "\n",
    "### PARKER DF\n",
    "parker = ff.copy()\n",
    "parker"
   ]
  },
  {
   "cell_type": "code",
   "execution_count": null,
   "metadata": {},
   "outputs": [],
   "source": [
    "### FLAG DATA\n",
    "\n",
    "# check if there is any alpha data\n",
    "all_nan = parker['Ahe'].isna().all()\n",
    "parker['flag'] = np.ones(len(parker.Ahe))\n",
    "if all_nan:\n",
    "    parker['flag'] = np.zeros(len(parker.Ahe))\n",
    "else:\n",
    "    # Flag instances as '0' if all three conditions apply\n",
    "    flag_condition_1 = (np.abs(parker.Np - parker.Ne) / parker.Ne) <= 0.5\n",
    "    flag_condition_2 = (parker.Ahe) <= 0.2\n",
    "    flag_condition_3 = (np.abs(parker.vap) / parker.vA) <= 2\n",
    "    flag_condition_4 = parker.Te < 200 \n",
    "\n",
    "    flag_0 = np.logical_and.reduce([flag_condition_1, flag_condition_2, flag_condition_3, flag_condition_4])\n",
    "\n",
    "parker['flag'][flag_0] = 0\n"
   ]
  },
  {
   "cell_type": "code",
   "execution_count": null,
   "metadata": {},
   "outputs": [],
   "source": [
    "### Create SkyCoord for PSP in the inertial (J2000) frame\n",
    "tt = pd.to_datetime(ff.index.to_list())\n",
    "\n",
    "psp_inertial = astrospice.generate_coords(\n",
    "    'SOLAR PROBE PLUS', tt\n",
    ")\n",
    "\n",
    "### Transform to solar co-rotating frame \n",
    "psp_carrington = psp_inertial.transform_to(\n",
    "    scoords.HeliographicCarrington(observer=\"self\")\n",
    ")\n",
    "\n",
    "# projection\n",
    "ts_common = np.array([dt.timestamp() for dt in tt])\n",
    "psp_vr_ts = [int(dt.timestamp()) for dt in tt]\n",
    "psp_vr_common = interp1d(psp_vr_ts,ff.vr,bounds_error=False)(ts_common)*u.km/u.s\n",
    "psp_at_source_surface = psp_funcs.ballistically_project(psp_carrington,vr_arr=psp_vr_common, r_inner=2.0*u.R_sun)\n"
   ]
  },
  {
   "cell_type": "code",
   "execution_count": null,
   "metadata": {},
   "outputs": [],
   "source": [
    "### ADD POSITION INFORMAITON AND SAVE\n",
    "parker['lon'] = psp_carrington.lon.value\n",
    "parker['lat'] = psp_carrington.lat.value\n",
    "parker['rAU'] = psp_carrington.radius.to(u.AU).value\n",
    "parker['sslon'] = psp_at_source_surface.lon.value\n",
    "parker['sslat'] = psp_at_source_surface.lat.value\n",
    "parker['ssrAU'] = psp_at_source_surface.radius.to(u.AU).value\n",
    "parker['NpR2'] = parker.Np * (parker.rAU ** 2)\n",
    "parker['NeR2'] = parker.Ne * (parker.rAU ** 2)\n",
    "parker['BrR2'] = parker.Br * (parker.rAU ** 2)\n",
    "parker.to_csv(os.path.join(RESULTS, 'parker.csv'))"
   ]
  },
  {
   "attachments": {},
   "cell_type": "markdown",
   "metadata": {},
   "source": [
    "# ORBITER"
   ]
  },
  {
   "cell_type": "code",
   "execution_count": null,
   "metadata": {},
   "outputs": [],
   "source": [
    "files = glob.glob(os.path.join(os.path.realpath(os.path.join('solar_orbiter_data', 'mag/L2/2023')), \"*\"), recursive=True)\n",
    "\n",
    "vars = cdf_to_tplot(files)\n",
    "dt = get_data('B_RTN')\n",
    "date_obj = [datetime.datetime.strptime(time_string(d), '%Y-%m-%d %H:%M:%S.%f') for d in dt.times]\n",
    "\n",
    "rd = {'Time': date_obj, 'Br': dt.y[:, 0], 'Bt': dt.y[:, 1], 'Bn': dt.y[:, 2]}\n",
    "mag = pd.DataFrame(data=rd)\n",
    "# mag = df.set_index(df.Time)\n",
    "mag.to_csv(os.path.join(RES_DIR, 'mag.csv'))"
   ]
  },
  {
   "cell_type": "code",
   "execution_count": null,
   "metadata": {},
   "outputs": [],
   "source": [
    "files = glob.glob(os.path.join(os.path.realpath(os.path.join('solar_orbiter_data', 'swa/L2/2023')), \"*\"), recursive=True)\n",
    "\n",
    "vars = cdf_to_tplot(files)\n",
    "dt = get_data('V_RTN')\n",
    "dt2 = get_data('N')\n",
    "dt3 = get_data('T')\n",
    "date_obj = [datetime.datetime.strptime(time_string(d), '%Y-%m-%d %H:%M:%S.%f') for d in dt.times]\n",
    "\n",
    "rd = {'Time': date_obj, 'vr': dt.y[:, 0], 'vt': dt.y[:, 1], 'vn': dt.y[:, 2], 'Np': dt2.y, 'Tp': dt3.y}\n",
    "swa = pd.DataFrame(data=rd)\n",
    "# swa = df.set_index(df.Time)\n",
    "swa.to_csv(os.path.join(RES_DIR, 'swa.csv'))"
   ]
  },
  {
   "cell_type": "code",
   "execution_count": null,
   "metadata": {},
   "outputs": [],
   "source": [
    "tplot(['N', 'V_RTN', 'B_RTN', 'T'])\n"
   ]
  },
  {
   "cell_type": "code",
   "execution_count": null,
   "metadata": {},
   "outputs": [],
   "source": [
    "ff = pd.merge_asof(swa, mag, on='Time', direction='backward')\n",
    "ff = ff.set_index('Time')\n",
    "ff"
   ]
  },
  {
   "cell_type": "code",
   "execution_count": null,
   "metadata": {},
   "outputs": [],
   "source": [
    "orbiter = pd.read_csv('results/orbiter.csv')\n",
    "orbiter['Time'] = [datetime.datetime.strptime(d, '%Y-%m-%d %H:%M:%S.%f') for d in orbiter.Time]\n",
    "orbiter"
   ]
  },
  {
   "cell_type": "code",
   "execution_count": null,
   "metadata": {},
   "outputs": [],
   "source": [
    "### Create SkyCoord for PSP in the inertial (J2000) frame\n",
    "ff = swa\n",
    "tt = pd.to_datetime(ff.index.to_list())\n",
    "kernels =  astrospice.registry.get_kernels('solar orbiter','predict') \n",
    "solo_inertial = astrospice.generate_coords(\n",
    "    'SOLAR ORBITER', tt\n",
    "\n",
    ")\n",
    "\n",
    "### Transform to solar co-rotating frame \n",
    "solo_carrington = solo_inertial.transform_to(\n",
    "    scoords.HeliographicCarrington(observer=\"self\")\n",
    ")\n",
    "\n",
    "# projection\n",
    "ts_common = np.array([dt.timestamp() for dt in tt])\n",
    "solo_vr_ts = [int(dt.timestamp()) for dt in tt]\n",
    "solo_vr_common = interp1d(solo_vr_ts,ff.vr,bounds_error=False)(ts_common)*u.km/u.s\n",
    "solo_at_source_surface = psp_funcs.ballistically_project(solo_carrington,vr_arr=solo_vr_common, r_inner=2.0*u.R_sun)\n"
   ]
  },
  {
   "cell_type": "code",
   "execution_count": null,
   "metadata": {},
   "outputs": [],
   "source": [
    "### ----- CALCULATIONS ----- ###\n",
    "ff = orbiter\n",
    "### Vap\n",
    "ff['B'] = np.sqrt(ff.Br**2 + ff.Bt**2 + ff.Bn**2)\n",
    "\n",
    "### TUBULENCE\n",
    "ff['use_dens'] = ff.Np\n",
    "ff['sigmac'],ff['sigmar'], ff['vA'], ff['Zp'],ff['Zm'], ff['deltav'], ff['deltab']  = sigma.calc_sigma(ff, num=8)\n",
    "ff = ff.drop(['use_dens'], axis=1)\n",
    "\n",
    "### MACH NUMBER\n",
    "ff['MA'] = ff.vr / ff.vA\n",
    "ff['MS'] = np.sqrt((ff.vr)**2 + (ff.vt)**2 + (ff.vn)**2)/con.speed_of_sound\n",
    "\n",
    "### BETA\n",
    "ff['beta'] = beta(np.array(ff.Tp)*u.eV, np.array(ff.Np)/(u.cm*u.cm*u.cm), np.array(ff.B)*u.nT).value\n",
    "\n",
    "# ### MAGNETIC PRESSURE\n",
    "ff['Pm'] = magnetic_pressure(np.array(ff.B)*u.nT).value\n",
    "\n",
    "### PROTON PRESSURE\n",
    "ff['Pp'] = thermal_pressure(np.array(ff.Tp)*u.eV, np.array(ff.Np)/u.cm**3).value\n",
    "\n",
    "### ORBITER DF\n",
    "orbiter = ff.copy()"
   ]
  },
  {
   "cell_type": "code",
   "execution_count": null,
   "metadata": {},
   "outputs": [],
   "source": [
    "### ADD POSITION INFORMATION AND SAVE\n",
    "orbiter['lon'] = solo_carrington.lon.value\n",
    "orbiter['lat'] = solo_carrington.lat.value\n",
    "orbiter['rAU'] = solo_carrington.radius.to(u.AU).value\n",
    "orbiter['sslon'] = solo_at_source_surface.lon.value\n",
    "orbiter['sslat'] = solo_at_source_surface.lat.value\n",
    "orbiter['ssrAU'] = solo_at_source_surface.radius.to(u.AU).value\n",
    "orbiter['NpR2'] = orbiter.Np * (orbiter.rAU ** 2)\n",
    "orbiter['BrR2'] = orbiter.Br * (orbiter.rAU ** 2)\n",
    "orbiter.to_csv(os.path.join(RES_DIR, 'orbiter.csv'))\n",
    "orbiter"
   ]
  }
 ],
 "metadata": {
  "kernelspec": {
   "display_name": "analysis",
   "language": "python",
   "name": "python3"
  },
  "language_info": {
   "codemirror_mode": {
    "name": "ipython",
    "version": 3
   },
   "file_extension": ".py",
   "mimetype": "text/x-python",
   "name": "python",
   "nbconvert_exporter": "python",
   "pygments_lexer": "ipython3",
   "version": "3.11.0"
  },
  "orig_nbformat": 4,
  "vscode": {
   "interpreter": {
    "hash": "314a463c9ec415e73039bf8505efa72008c83699ef4429ce33d27e2f772e1c23"
   }
  }
 },
 "nbformat": 4,
 "nbformat_minor": 2
}
