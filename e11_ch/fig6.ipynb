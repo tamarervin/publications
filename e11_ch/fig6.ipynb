{
 "cells": [
  {
   "attachments": {},
   "cell_type": "markdown",
   "metadata": {},
   "source": [
    "# Figure Six: PFSS Model\n",
    "\n",
    "- Panel (a_: Full Carrington EUV map with PFSS model overlaid\n",
    "    - footpoints (grey, pink (FSW), green (SSW), purple (SASW))\n",
    "    - trajectory (red (positive polarity), blue (negative polarity))\n",
    "    - HCS (white)\n",
    "    - footpoint radial magnetic field ($B_{r, \\, 0}$)\n",
    "- Bottom Panels: zoom in of top panel onto four periods of interest along with footpoint brightness\n",
    "    - Panel (b): HCS crossing\n",
    "    - Panel (c): FSW region\n",
    "    - Panel (d): SSW & SASW regions"
   ]
  },
  {
   "attachments": {},
   "cell_type": "markdown",
   "metadata": {},
   "source": [
    "## Imports"
   ]
  },
  {
   "cell_type": "code",
   "execution_count": 1,
   "metadata": {},
   "outputs": [
    {
     "data": {
      "application/vnd.jupyter.widget-view+json": {
       "model_id": "7131f9f3df4d4c3ba3955607d5d36b48",
       "version_major": 2,
       "version_minor": 0
      },
      "text/plain": [
       "Files Downloaded:   0%|          | 0/1 [00:00<?, ?file/s]"
      ]
     },
     "metadata": {},
     "output_type": "display_data"
    },
    {
     "name": "stderr",
     "output_type": "stream",
     "text": [
      "11-Sep-23 13:54:23: /Users/tamarervin/miniconda3/envs/e11_conjunction/lib/python3.11/site-packages/erfa/core.py:154: ErfaWarning: ERFA function \"dtf2d\" yielded 1 of \"dubious year (Note 6)\"\n",
      "  warnings.warn('ERFA function \"{}\" yielded {}'.format(func_name, wmsg),\n",
      "\n"
     ]
    },
    {
     "data": {
      "application/vnd.jupyter.widget-view+json": {
       "model_id": "7728b8f9a41147e49e8de01a2a6904ea",
       "version_major": 2,
       "version_minor": 0
      },
      "text/plain": [
       "Files Downloaded:   0%|          | 0/1 [00:00<?, ?file/s]"
      ]
     },
     "metadata": {},
     "output_type": "display_data"
    }
   ],
   "source": [
    "import sys, os\n",
    "import astropy.units as u\n",
    "\n",
    "import datetime\n",
    "import numpy as np\n",
    "import pandas as pd\n",
    "\n",
    "import matplotlib as mpl\n",
    "import matplotlib.pyplot as plt\n",
    "import matplotlib.patches as mpatches\n",
    "import matplotlib.pyplot as plt\n",
    "\n",
    "\n",
    "import sunpy\n",
    "import astrospice\n",
    "from astropy.coordinates import SkyCoord\n",
    "\n",
    "import tools.psp_funcs as psp_funcs\n",
    "import tools.pfss_funcs as pfss_funcs\n",
    "\n",
    "\n",
    "for sc in ['psp','solar orbiter'] : kernels = astrospice.registry.get_kernels(sc,'predict') \n",
    "\n",
    "# COLORS\n",
    "c = ['#ae017e','#085A99',  '#c98000'] # darker colors\n",
    "lightc = ['#FCA4C4',  '#8FD3F4', '#FFCC70'] # lighter colors\n",
    "fcol = 'mistyrose'\n",
    "sacol='lavender'\n",
    "sacol = 'violet'\n",
    "scol = 'lightgreen'\n",
    "hcol = 'lightblue'\n",
    "aa = 0.6\n",
    "lw=2\n",
    "clon = '#ae017e'\n",
    "clat = '#085A99'\n",
    "rcol = 'dimgrey'\n",
    "cmaps = ['RdPu', 'cool', 'Wistia', 'spring']\n",
    "\n",
    "# REGIONS\n",
    "loc_hcs = [113, 116]\n",
    "ssw = [166, 175]\n",
    "sasw = [175, 185]\n",
    "fsw = [70, 85]\n",
    "\n",
    "# DIRECTORIES\n",
    "IMG_DIR = './figures'\n",
    "DF_DIR = './results'\n",
    "PlotDir = '/Users/tamarervin/mplstyle/'\n",
    "\n",
    "# PLOT STYLING\n",
    "plot_style = os.path.join(PlotDir, 'figure_series.mplstyle')\n",
    "plt.rcParams['mathtext.fontset'] = 'custom'\n",
    "plt.rcParams['mathtext.cal'] = 'Helvetica Neue LT Pro'\n",
    "plt.rcParams.update({'font.size': 18})\n",
    "plt.style.use(plot_style)"
   ]
  },
  {
   "attachments": {},
   "cell_type": "markdown",
   "metadata": {},
   "source": [
    "## Data"
   ]
  },
  {
   "cell_type": "code",
   "execution_count": 2,
   "metadata": {},
   "outputs": [],
   "source": [
    "# regular data\n",
    "parker = pd.read_csv('/Users/tamarervin/e11_conjunction/results/parker.csv')\n",
    "orbiter = pd.read_csv('/Users/tamarervin/e11_conjunction/results/orbiter.csv')\n",
    "abun = pd.read_csv('/Users/tamarervin/e11_conjunction/results/abun.csv')\n",
    "smag = pd.read_csv('/Users/tamarervin/e11_conjunction/results/solo_mag.csv')\n",
    "merged_df = pd.read_csv('/Users/tamarervin/e11_conjunction/results/merged_df.csv')\n",
    "pss = pd.read_csv('/Users/tamarervin/e11_conjunction/results/pss.csv')\n",
    "\n",
    "# timesampled data\n",
    "parkerdownt = pd.read_csv('/Users/tamarervin/e11_conjunction/results/parkerdownt.csv')\n",
    "orbiterdownt = pd.read_csv('/Users/tamarervin/e11_conjunction/results/orbiterdownt.csv')\n",
    "abundownt = pd.read_csv('/Users/tamarervin/e11_conjunction/results/abundownt.csv')\n",
    "smagdownt = pd.read_csv('/Users/tamarervin/e11_conjunction/results/smagdownt.csv')\n",
    "\n",
    "# longitudinally sampled data\n",
    "parkerdownl = pd.read_csv('/Users/tamarervin/e11_conjunction/results/parkerdownl.csv')\n",
    "orbiterdownl = pd.read_csv('/Users/tamarervin/e11_conjunction/results/orbiterdownl.csv')\n",
    "abundownl = pd.read_csv('/Users/tamarervin/e11_conjunction/results/abundownl.csv')\n",
    "smagdownl = pd.read_csv('/Users/tamarervin/e11_conjunction/results/smagdownl.csv')\n",
    "\n",
    "# PFSS/MHD data\n",
    "tracerdf = pd.read_csv('/Users/tamarervin/e11_conjunction/mhd/mhd_footpoints.dat', sep='\\s+') \n",
    "so_tracerdf = pd.read_csv('/Users/tamarervin/e11_conjunction/mhd/so_mhd_footpoints.dat', sep='\\s+')\n",
    "pfss = pd.read_csv('/Users/tamarervin/e11_conjunction/results/psp_pfss.csv')\n",
    "so_pfss = pd.read_csv('/Users/tamarervin/e11_conjunction/results/so_pfss.csv')\n",
    "\n",
    "# FIX TIMESTAMPS\n",
    "parker['Time'] = [datetime.datetime.strptime(d, '%Y-%m-%d %H:%M:%S') for d in parker.Time]\n",
    "orbiter['Time'] = [datetime.datetime.strptime(d, '%Y-%m-%d %H:%M:%S.%f') for d in orbiter.Time]\n",
    "pss['Time'] = [datetime.datetime.strptime(d, '%Y-%m-%d %H:%M:%S') for d in pss.Time]\n",
    "smag['Time'] = [datetime.datetime.strptime(d, '%Y-%m-%d %H:%M:%S.%f') for d in smag.Time]\n",
    "abun['Time'] = [datetime.datetime.strptime(d, '%Y-%m-%d %H:%M:%S.%f') for d in abun.Time]\n",
    "so_pfss['Time'] = [datetime.datetime.strptime(d, '%Y-%m-%d %H:%M:%S') for d in so_pfss.times]\n",
    "parkerdownt['Time'] = [datetime.datetime.strptime(d, '%Y-%m-%d %H:%M:%S') for d in parkerdownt.Time]\n",
    "orbiterdownt['Time'] = [datetime.datetime.strptime(d, '%Y-%m-%d %H:%M:%S') for d in orbiterdownt.Time]\n",
    "smagdownt['Time'] = [datetime.datetime.strptime(d, '%Y-%m-%d %H:%M:%S') for d in smagdownt.Time]\n",
    "abundownt['Time'] = [datetime.datetime.strptime(d, '%Y-%m-%d %H:%M:%S') for d in abundownt.Time]\n"
   ]
  },
  {
   "attachments": {},
   "cell_type": "markdown",
   "metadata": {},
   "source": [
    "## Run PFSS Model"
   ]
  },
  {
   "cell_type": "code",
   "execution_count": 3,
   "metadata": {},
   "outputs": [
    {
     "name": "stderr",
     "output_type": "stream",
     "text": [
      "11-Sep-23 13:54:26: Missing metadata for solar radius: assuming the standard radius of the photosphere.\n",
      "11-Sep-23 13:54:26: /Users/tamarervin/miniconda3/envs/e11_conjunction/lib/python3.11/site-packages/sunpy/map/mapbase.py:628: SunpyMetadataWarning: Missing metadata for observer: assuming Earth-based observer.\n",
      "For frame 'heliographic_stonyhurst' the following metadata is missing: dsun_obs,hgln_obs,hglt_obs\n",
      "For frame 'heliographic_carrington' the following metadata is missing: dsun_obs,crlt_obs,crln_obs\n",
      "\n",
      "  obs_coord = self.observer_coordinate\n",
      "\n",
      "11-Sep-23 13:54:26: Missing metadata for solar radius: assuming the standard radius of the photosphere.\n",
      "11-Sep-23 13:54:26: /Users/tamarervin/miniconda3/envs/e11_conjunction/lib/python3.11/site-packages/sunpy/map/mapbase.py:628: SunpyMetadataWarning: Missing metadata for observer: assuming Earth-based observer.\n",
      "For frame 'heliographic_stonyhurst' the following metadata is missing: dsun_obs,hgln_obs,hglt_obs\n",
      "For frame 'heliographic_carrington' the following metadata is missing: dsun_obs,crlt_obs,crln_obs\n",
      "\n",
      "  obs_coord = self.observer_coordinate\n",
      "\n"
     ]
    },
    {
     "name": "stdout",
     "output_type": "stream",
     "text": [
      "INFO: Missing metadata for solar radius: assuming the standard radius of the photosphere. [sunpy.map.mapbase]\n",
      "INFO: Missing metadata for solar radius: assuming the standard radius of the photosphere. [sunpy.map.mapbase]\n"
     ]
    },
    {
     "name": "stderr",
     "output_type": "stream",
     "text": [
      "11-Sep-23 13:54:34: /Users/tamarervin/miniconda3/envs/e11_conjunction/lib/python3.11/site-packages/pfsspy/tracing.py:180: UserWarning: At least one field line ran out of steps during tracing.\n",
      "You should probably increase max_steps (currently set to 1000) and try again.\n",
      "  warnings.warn(\n",
      "\n"
     ]
    }
   ],
   "source": [
    "# download/read in magnetogram\n",
    "rss=2.0\n",
    "local_path = os.path.realpath(\"../../e11_conjunction/data/\")\n",
    "filename = 'adapt40311_03k012_202202240000_i00005600n1.fts.gz'\n",
    "filepath = f\"{local_path}/{filename}\"\n",
    "adapt_magnetogram = pfss_funcs.adapt2pfsspy(filepath, return_magnetogram=True)\n",
    "gong_map = sunpy.map.Map(adapt_magnetogram.data/1e5, adapt_magnetogram.meta)\n",
    "\n",
    "# run PFSS model\n",
    "pfss_model = pfss_funcs.adapt2pfsspy(filepath,rss)\n",
    "\n",
    "# trace PFSS lines\n",
    "flines = pfss_funcs.pfss2flines(pfss_model)"
   ]
  },
  {
   "cell_type": "code",
   "execution_count": 4,
   "metadata": {},
   "outputs": [
    {
     "data": {
      "application/vnd.jupyter.widget-view+json": {
       "model_id": "9afa249eec4c4eceb1bf22e0dbe8b35e",
       "version_major": 2,
       "version_minor": 0
      },
      "text/plain": [
       "Files Downloaded:   0%|          | 0/1 [00:00<?, ?file/s]"
      ]
     },
     "metadata": {},
     "output_type": "display_data"
    }
   ],
   "source": [
    "# get PSP at source surface\n",
    "# get datetimes from fields dataframe\n",
    "pdatetimes = parker.Time\n",
    "\n",
    "# get inertial PSP coordinates \n",
    "kernels = astrospice.registry.get_kernels('psp', 'predict')\n",
    "psp_coords_inertial = astrospice.generate_coords('SOLAR PROBE PLUS', pdatetimes)\n",
    "\n",
    "# Transform to Heliographic Carrington, i.e. the frame that co-rotates with the Sun.\n",
    "psp_coords_carr = psp_coords_inertial.transform_to(\n",
    "sunpy.coordinates.HeliographicCarrington(observer=\"self\"))\n",
    "\n",
    "# get psp longitude and latitude at source surface\n",
    "psp_at_source_surface = psp_funcs.coord_projection(psp_coords_carr, rss, pdatetimes)"
   ]
  },
  {
   "cell_type": "code",
   "execution_count": 5,
   "metadata": {},
   "outputs": [
    {
     "name": "stderr",
     "output_type": "stream",
     "text": [
      "11-Sep-23 13:55:01: /Users/tamarervin/miniconda3/envs/e11_conjunction/lib/python3.11/site-packages/pfsspy/tracing.py:180: UserWarning: At least one field line ran out of steps during tracing.\n",
      "You should probably increase max_steps (currently set to 1000) and try again.\n",
      "  warnings.warn(\n",
      "\n"
     ]
    }
   ],
   "source": [
    "# get Br at the source surface from the pfss model\n",
    "pfss_br = pfss_model.source_surface_br\n",
    "\n",
    "# get HCS\n",
    "hcs = pfss_model.source_surface_pils[0]\n",
    "\n",
    "# get trajectory \n",
    "polarity = np.sign(parker.BrR2)\n",
    "pos = np.where(polarity == 1)\n",
    "neg = np.where(polarity == -1)\n",
    "\n",
    "# get field lines\n",
    "flines_psp = pfss_funcs.pfss2flines(pfss_model, skycoord_in=psp_at_source_surface)\n",
    "\n",
    "# high res field lines\n",
    "flines_highres = pfss_funcs.pfss2flines(pfss_model,nth=181,nph=361)\n",
    "\n",
    "# get field line topology defined by polarity\n",
    "topologies = flines_highres.polarities.reshape([181,361])"
   ]
  },
  {
   "attachments": {},
   "cell_type": "markdown",
   "metadata": {},
   "source": [
    "## Plotting Function"
   ]
  },
  {
   "cell_type": "code",
   "execution_count": 6,
   "metadata": {},
   "outputs": [],
   "source": [
    "def plot_pfss(smap, hcs, source_surface, flines, datetimes, ax, nf=8, dim=[0, 360, -90, 90], tm=7, dd=True, yl=True, fp=True, full=True):\n",
    "\n",
    "    # plot on axes\n",
    "    plt.sca(ax)\n",
    "    \n",
    "    # color dictionary\n",
    "    color_dict = {-1:\"blue\", 0:\"black\", 1:\"red\"}\n",
    "    \n",
    "    # plot euv map\n",
    "    if type(smap) == sunpy.map.mapbase.GenericMap:\n",
    "        lons = np.linspace(0, 360, 721)\n",
    "        lats = np.linspace(-90, 90, 361)\n",
    "        lognorm = mpl.colors.LogNorm(vmin=np.nanpercentile(smap.data.flatten(),10\n",
    "                                                           ), \n",
    "                                vmax=np.nanpercentile(smap.data.flatten(),99.9))\n",
    "        ax.pcolormesh(lons, lats, smap.data, cmap='sdoaia193', norm=lognorm, zorder=-1)\n",
    "    else:\n",
    "        lons = np.linspace(0, 360, 361)\n",
    "        lats = np.linspace(-90, 90, 181)\n",
    "        ax.pcolormesh(lons,lats,topologies,cmap=\"coolwarm\", zorder=-1)\n",
    "        \n",
    "    # plot HCS\n",
    "    ax.plot(hcs.lon, hcs.lat, color='white', label='HCS', zorder=0)\n",
    "\n",
    "    if full:\n",
    "        # plot field lines\n",
    "        for f in flines_psp[::nf] :\n",
    "            fcoords = f.coords\n",
    "            fcoords.representation_type=\"spherical\"\n",
    "            ax.plot(fcoords.lon,\n",
    "                    fcoords.lat,\n",
    "                    # fcoords.z.to(\"R_sun\"),\n",
    "                    color = color_dict.get(f.polarity), \n",
    "                    linewidth=0.5, alpha=0.5, zorder=1\n",
    "                )\n",
    "\n",
    "        # plot trajectory\n",
    "        polarity = np.sign(parker.BrR2)\n",
    "        pos = np.where(polarity == 1)\n",
    "        neg = np.where(polarity == -1)\n",
    "        ax.scatter(source_surface.lon[neg], source_surface.lat[neg], color='navy', label='Negative Polarity', zorder=2, s=3)\n",
    "        ax.scatter(source_surface.lon[pos], source_surface.lat[pos], color='darkred',label='Positive Polarity', zorder=3, s=3)\n",
    "\n",
    "    # add regions of interest\n",
    "    lon_footpoints = flines.open_field_lines.source_surface_feet.lon.value[::nf]\n",
    "    lat_footpoints = flines.open_field_lines.source_surface_feet.lat[::nf]\n",
    "    fast = np.logical_and(lon_footpoints >= fsw[0], lon_footpoints <=fsw[1])\n",
    "    slow = np.logical_and(lon_footpoints >= ssw[0], lon_footpoints <=ssw[1])\n",
    "    salf = np.logical_and(lon_footpoints >= sasw[0], lon_footpoints <=sasw[1])\n",
    "\n",
    "    # plot footpoints\n",
    "    lon_footpoints = flines.open_field_lines.solar_feet.lon.value[::nf]\n",
    "    lat_footpoints = flines.open_field_lines.solar_feet.lat[::nf]\n",
    "    ax.scatter(lon_footpoints, lat_footpoints, s=6, color='grey', marker='D')\n",
    "    ax.scatter(lon_footpoints[fast], lat_footpoints[fast], s=6, color=fcol, marker='D')\n",
    "    ax.scatter(lon_footpoints[slow], lat_footpoints[slow], s=6, color=scol, marker='D')\n",
    "    ax.scatter(lon_footpoints[salf], lat_footpoints[salf], s=6, color=sacol, marker='D')\n",
    "\n",
    "    # plot dates\n",
    "    if dd:\n",
    "        dates = [i.date() for i in datetimes]\n",
    "        dates_str = [d.strftime('%m-%d-%Y') for d in dates]\n",
    "        psp_inds = [np.where(np.array(dates_str) == d)[0][0] for d in np.unique(dates_str)[1:]]\n",
    "        labels = np.unique(dates_str)[1:]\n",
    "        for i, x in enumerate(list(zip(psp_at_source_surface.lon[psp_inds], psp_at_source_surface.lat[psp_inds]))):\n",
    "            label = labels[i]\n",
    "            ax.text(x[0].value - 2, x[1].value + 2, label[:-5], ha=\"center\", va=\"bottom\", color='white', rotation=45, size='large', zorder=5)\n",
    "\n",
    "    # footpoints legend\n",
    "    if fp:\n",
    "        fleg = mpatches.Patch(color=fcol, label=r'$\\rm Fast \\; Wind$')\n",
    "        saleg = mpatches.Patch(color=sacol, label=r'$\\rm Slow \\; Alfvenic \\; Wind$')\n",
    "        sleg = mpatches.Patch(color=scol, label=r'$\\rm Classical \\; Slow \\; Wind$')\n",
    "        footpoints = mpatches.Patch(color='grey', label=r'$\\rm Footpoints$')\n",
    "        leg2 = ax.legend(handles=[footpoints, fleg, sleg, saleg], loc='upper right')\n",
    "        ax.add_artist(leg2)\n",
    "\n",
    "    # title and labels\n",
    "    ax.set_xlim((dim[0], dim[1]))\n",
    "    ax.set_ylim((dim[2], dim[3]))\n",
    "    ax.set_xticks(np.linspace(dim[0], dim[1], tm))\n",
    "    ax.set_yticks(np.linspace(dim[2], dim[3], tm))\n",
    "    ax.set_xlabel(r\"$\\rm Carrington \\; Longitude \\; [deg]$\")\n",
    "    if yl:\n",
    "        ax.set_ylabel(r\"$\\rm Carrington \\; Latitude \\; [deg]$\")\n",
    "\n",
    "    return ax"
   ]
  },
  {
   "attachments": {},
   "cell_type": "markdown",
   "metadata": {},
   "source": [
    "## Footpoint Brightness"
   ]
  },
  {
   "cell_type": "code",
   "execution_count": 7,
   "metadata": {},
   "outputs": [],
   "source": [
    "#### FOOTPOINTS\n",
    "lats = np.array(flines_psp.open_field_lines.solar_feet.lat)\n",
    "lons = np.array(flines_psp.open_field_lines.solar_feet.lon.value)\n",
    "\n",
    "#### FOOTPOINT BRIGHTNESS\n",
    "synoptic = '/Users/tamarervin/e11_conjunction/data/E11_14days.fits'\n",
    "smap = sunpy.map.Map(synoptic)\n",
    "\n",
    "# Convert latitude and longitude arrays to SkyCoord\n",
    "coords = SkyCoord(lon=lons*u.deg, lat=lats*u.deg, frame=smap.coordinate_frame)\n",
    "\n",
    "# Convert SkyCoord coordinates to pixel coordinates\n",
    "pixel_coords = coords.to_pixel(smap.wcs)\n",
    "\n",
    "# Extract data values from SunPy map at pixel coordinates\n",
    "data_values = smap.data[pixel_coords[1].astype(int), pixel_coords[0].astype(int)]\n",
    "\n",
    "#### FIELD STRENGTH\n",
    "smap = gong_map\n",
    "\n",
    "# Convert latitude and longitude arrays to SkyCoord\n",
    "coords = SkyCoord(lon=lons*u.deg, lat=lats*u.deg, frame=smap.coordinate_frame)\n",
    "\n",
    "# Convert SkyCoord coordinates to pixel coordinates\n",
    "pixel_coords = coords.to_pixel(smap.wcs)\n",
    "field_strength = smap.data[pixel_coords[1].astype(int), pixel_coords[0].astype(int)]\n"
   ]
  },
  {
   "cell_type": "code",
   "execution_count": 8,
   "metadata": {},
   "outputs": [
    {
     "name": "stderr",
     "output_type": "stream",
     "text": [
      "11-Sep-23 13:55:06: /var/folders/by/lx780c7j7w58m_tkpc3q83kc0000gn/T/ipykernel_96876/3025397144.py:62: UserWarning: FixedFormatter should only be used together with FixedLocator\n",
      "  axf.set_yticklabels([-0.1, 0, 0.1, 0.2])\n",
      "\n",
      "11-Sep-23 13:55:11: The PostScript backend does not support transparency; partially transparent artists will be rendered opaque.\n"
     ]
    }
   ],
   "source": [
    "### SETUP FIGURE\n",
    "fig = plt.figure(figsize=(20, 14))\n",
    "grid = plt.GridSpec(2, 3, height_ratios=[2, 1], width_ratios=[1, 1, 1], hspace=0.2, wspace=0.1)\n",
    "nf = 16\n",
    "\n",
    "### CREATE SUBPLOTS\n",
    "ax1 = fig.add_subplot(grid[0, :])\n",
    "ax2 = fig.add_subplot(grid[1, 0])\n",
    "ax3 = fig.add_subplot(grid[1, 1])\n",
    "ax4 = fig.add_subplot(grid[1, 2])\n",
    "axs = [ax1, ax2, ax3, ax4]\n",
    "\n",
    "##### ---------- PANEL (A): PFSS FIGURE  ---------- ######\n",
    "### READ IN EUV MAP\n",
    "synoptic = '/Users/tamarervin/e11_conjunction/data/E11_14days.fits'\n",
    "smap = sunpy.map.Map(synoptic)\n",
    "\n",
    "### PLOT PFSS MODEL\n",
    "plot_pfss(smap, hcs, psp_at_source_surface, flines_psp, pdatetimes, ax=ax1, nf=20, dim=[0, 240, -90, 90])\n",
    "\n",
    "### ADD RECTANGLES\n",
    "lab = ['(b)', '(c)', '(d)']\n",
    "for i, rect_x in enumerate([60, 100, 165]):\n",
    "    rect = mpl.patches.Rectangle((rect_x, -30), 30, 60, linewidth=1, edgecolor='white', facecolor='none')\n",
    "    ax1.add_patch(rect) \n",
    "    rect_corners = [(rect_x, -30),\n",
    "                    (rect_x + 30, -30),\n",
    "                    (rect_x + 30, 30),\n",
    "                    (rect_x, 30)]\n",
    "    ax1.text(rect_x + 3, 27, lab[i], fontsize=16, fontweight='bold', va='top', ha='left', color='black')\n",
    "\n",
    "##### ---------- PANEL (B): FAST WIND REGION  ---------- ######\n",
    "plot_pfss(smap, hcs, psp_at_source_surface, flines_psp, pdatetimes, ax=ax2, nf=20, dim=[60, 90, -45, 45], tm=4, fp=False, dd=False, full=True)\n",
    "ax2.set_title(r'$\\rm Fast \\; Wind$')\n",
    "\n",
    "##### ---------- PANEL (C): HCS REGION  ---------- ######\n",
    "plot_pfss(smap, hcs, psp_at_source_surface, flines_psp, pdatetimes, ax=ax3, nf=20, dim=[100, 130, -45, 45], tm=4, fp=False, dd=False, yl=False, full=True)\n",
    "ax3.set_title(r'$\\rm HCS$')\n",
    "ax3.set_yticks([-30, -10, 10, 30])\n",
    "ax3.set_yticklabels([])\n",
    "\n",
    "##### ---------- PANEL (D): SLOW WIND REGIONS  ---------- ######\n",
    "plot_pfss(smap, hcs, psp_at_source_surface, flines_psp, pdatetimes, ax=ax4, nf=20, dim=[165, 195, -45, 45], tm=4, fp=False, dd=False, yl=False, full=True)\n",
    "ax4.set_title(r'$\\rm Slow \\; Wind$')\n",
    "ax4.set_yticks([-30, -10, 10, 30])\n",
    "ax4.set_yticklabels([])\n",
    "\n",
    "##### ---------- PANEL (A): FOOTPOINT FIELD STRENGTH  ---------- ######\n",
    "ss=40\n",
    "nf=32\n",
    "d1 = flines_psp.open_field_lines.solar_feet.lon.value[::nf]\n",
    "d2 = field_strength[::nf]*100\n",
    "\n",
    "lon_footpoints = flines_psp.open_field_lines.source_surface_feet.lon.value[::nf]\n",
    "fast = np.logical_and(lon_footpoints >= fsw[0], lon_footpoints <=fsw[1])\n",
    "salf = np.logical_and(lon_footpoints >= sasw[0], lon_footpoints <=sasw[1])\n",
    "hhcs = np.logical_and(lon_footpoints >= loc_hcs[0], lon_footpoints <=loc_hcs[1])\n",
    "slow = np.logical_and(lon_footpoints >=ssw[0], lon_footpoints <=ssw[1])\n",
    "\n",
    "axf = ax1.twinx()\n",
    "axf.set_ylim(-0.2, 3) \n",
    "axf.set_yticklabels([-0.1, 0, 0.1, 0.2])\n",
    "axf.set_yticks([-0.1, 0, 0.1, 0.2])\n",
    "axf.set_ylabel(r'$\\rm Photospheric \\; B_R \\;  [nT]$')\n",
    "axf.axhspan(-0.1, 0.2, alpha=1, color='silver', zorder=-1)\n",
    "axf.scatter(d1, d2, c='grey', s=ss, linewidth=0.8, edgecolor='k')\n",
    "axf.scatter(d1[fast], d2[fast], c=fcol, s=ss, linewidth=0.8, edgecolor='k')\n",
    "axf.scatter(d1[slow], d2[slow], c=scol, s=ss, linewidth=0.8, edgecolor='k')\n",
    "axf.scatter(d1[salf], d2[salf], c=sacol, s=ss, linewidth=0.8, edgecolor='k')\n",
    "axf.scatter(d1[hhcs], d2[hhcs], c=hcol, s=ss, linewidth=0.8, edgecolor='k')\n",
    "\n",
    "##### ---------- PANELS (C, D, E): RELATIVE FOOTPOINT BRIGHTNESS  ---------- ######\n",
    "nf=16\n",
    "d1 = flines_psp.open_field_lines.solar_feet.lon.value[0::nf]\n",
    "d2 = data_values[0::nf]/np.nanmax(data_values)\n",
    "lon_footpoints = flines_psp.open_field_lines.source_surface_feet.lon.value[::nf]\n",
    "fast = np.logical_and(lon_footpoints >= fsw[0], lon_footpoints <=fsw[1])\n",
    "salf = np.logical_and(lon_footpoints >= sasw[0], lon_footpoints <=sasw[1])\n",
    "hhcs = np.logical_and(lon_footpoints >= loc_hcs[0], lon_footpoints <=loc_hcs[1])\n",
    "slow = np.logical_and(lon_footpoints >=ssw[0], lon_footpoints <=ssw[1])\n",
    "\n",
    "for ax in [ax2, ax3, ax4]:\n",
    "    axf = ax.twinx()\n",
    "    ### ADD BACKGROUND COLOR\n",
    "    axf.axhspan(0, 1.125, alpha=1, color='silver', zorder=-1)\n",
    "    ### PLOT DATA\n",
    "    axf.scatter(d1, d2, c='grey', s=ss, linewidth=0.8, edgecolor='k')\n",
    "    axf.scatter(d1[fast], d2[fast], c=fcol, s=ss, linewidth=0.8, edgecolor='k')\n",
    "    axf.scatter(d1[slow], d2[slow], c=scol, s=ss, linewidth=0.8, edgecolor='k')\n",
    "    axf.scatter(d1[salf], d2[salf], c=sacol, s=ss, linewidth=0.8, edgecolor='k')\n",
    "    axf.scatter(d1[hhcs], d2[hhcs], c=hcol, s=ss, linewidth=0.8, edgecolor='k')\n",
    "    ### LIMITS AND LABELS\n",
    "    axf.set_ylim(0, 5)\n",
    "    axf.set_yticklabels([])\n",
    "    axf.set_yticks([])\n",
    "axf.set_ylabel(r'$\\rm Relative \\; Footpoint \\; Brightness$')\n",
    "\n",
    "### PANEL LABELS\n",
    "ax2.text(0.02, 0.93, '(a)', transform=ax1.transAxes, fontsize=16, fontweight='bold', va='top', ha='left', color='black')\n",
    "ax2.text(0.05, 0.93, '(b)', transform=ax2.transAxes, fontsize=16, fontweight='bold', va='top', ha='left', color='black')\n",
    "ax3.text(0.05, 0.93, '(c)', transform=ax3.transAxes, fontsize=16, fontweight='bold', va='top', ha='left', color='black')\n",
    "ax4.text(0.05, 0.93, '(d)', transform=ax4.transAxes, fontsize=16, fontweight='bold', va='top', ha='left', color='black')\n",
    "\n",
    "### SAVE FIGURE\n",
    "fig.savefig('figures/fig6.png', bbox_inches='tight') #PNG\n",
    "fig.savefig('eps_figures/fig6.eps', bbox_inches='tight') #EPS\n",
    "fig.savefig('eps_figures/fig6.pdf') #EPS"
   ]
  },
  {
   "cell_type": "code",
   "execution_count": null,
   "metadata": {},
   "outputs": [],
   "source": []
  }
 ],
 "metadata": {
  "kernelspec": {
   "display_name": "e11_conjunction",
   "language": "python",
   "name": "python3"
  },
  "language_info": {
   "codemirror_mode": {
    "name": "ipython",
    "version": 3
   },
   "file_extension": ".py",
   "mimetype": "text/x-python",
   "name": "python",
   "nbconvert_exporter": "python",
   "pygments_lexer": "ipython3",
   "version": "3.11.0 | packaged by conda-forge | (main, Jan 14 2023, 12:26:40) [Clang 14.0.6 ]"
  },
  "orig_nbformat": 4,
  "vscode": {
   "interpreter": {
    "hash": "2e4f03cd68f3789d90a1fdc4e956709ed857be600500045888d59a9e8afa8ef6"
   }
  }
 },
 "nbformat": 4,
 "nbformat_minor": 2
}
