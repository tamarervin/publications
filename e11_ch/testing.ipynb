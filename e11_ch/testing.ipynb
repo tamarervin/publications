{
 "cells": [
  {
   "cell_type": "code",
   "execution_count": null,
   "metadata": {},
   "outputs": [],
   "source": [
    "import glob\n",
    "import pyspedas\n",
    "from pyspedas import time_string, time_double\n",
    "from pytplot import tplot, get_data, cdf_to_tplot, store_data\n",
    "import astrospice\n",
    "import sunpy \n",
    "import sys, os\n",
    "import datetime\n",
    "import numpy as np\n",
    "sys.path.append(os.path.realpath(''))\n",
    "import pandas as pd\n",
    "import astropy.units as u\n",
    "import matplotlib.pyplot as plt\n",
    "\n",
    "import tools.utilities as utils\n",
    "import tools.sigma as sigma\n",
    "from tools.calculations import calc_beta\n",
    "import tools.psp_funcs as psp_funcs\n",
    "import tools.pfss_funcs as pfss_funcs\n",
    "\n",
    "\n",
    "import sunpy.coordinates as scoords\n",
    "from scipy.interpolate import interp1d\n",
    "from plasmapy.formulary import beta, magnetic_pressure, thermal_pressure, ion_sound_speed\n",
    "from astropy.constants import k_B\n",
    "import heliopy.data.spice as spicedata\n",
    "import heliopy.spice as spice\n",
    "import scipy.constants as con\n",
    "\n",
    "\n",
    "import matplotlib.pyplot as plt\n",
    "from mpl_toolkits import mplot3d\n",
    "from matplotlib import animation, rc\n",
    "from IPython.display import HTML\n",
    "from astropy.coordinates import SkyCoord\n",
    "\n",
    "import astropy.constants as const\n",
    "import astropy.units as u\n",
    "from ntpath import basename\n",
    "import numpy as np\n",
    "from urllib.request import urlretrieve\n",
    "import os \n",
    "\n",
    "rc('animation',html='html5')\n",
    "\n",
    "\n",
    "RES_DIR = os.path.realpath('results')\n",
    "for sc in ['psp','solar orbiter'] : kernels = astrospice.registry.get_kernels(sc,'predict') \n",
    "\n"
   ]
  },
  {
   "cell_type": "code",
   "execution_count": null,
   "metadata": {},
   "outputs": [],
   "source": [
    "files = glob.glob(os.path.join(os.path.realpath(os.path.join('solar_orbiter_data', 'mag/L2/2023')), \"*\"), recursive=True)\n",
    "\n",
    "vars = cdf_to_tplot(files)\n",
    "dt = get_data('B_RTN')\n",
    "date_obj = [datetime.datetime.strptime(time_string(d), '%Y-%m-%d %H:%M:%S.%f') for d in dt.times]\n",
    "\n",
    "rd = {'Time': date_obj, 'Br': dt.y[:, 0], 'Bt': dt.y[:, 1], 'Bn': dt.y[:, 2]}\n",
    "mag = pd.DataFrame(data=rd)\n",
    "# mag = df.set_index(df.Time)\n",
    "mag.to_csv(os.path.join(RES_DIR, 'mag.csv'))"
   ]
  }
 ],
 "metadata": {
  "kernelspec": {
   "display_name": "Python 3",
   "language": "python",
   "name": "python3"
  },
  "language_info": {
   "name": "python",
   "version": "3.8.16 | packaged by conda-forge | (default, Feb  1 2023, 16:01:13) \n[Clang 14.0.6 ]"
  },
  "orig_nbformat": 4,
  "vscode": {
   "interpreter": {
    "hash": "ff33bd1c68fd18cad7c7dda42a3b2eabf8f517631236701e465b5d513c967cbf"
   }
  }
 },
 "nbformat": 4,
 "nbformat_minor": 2
}
